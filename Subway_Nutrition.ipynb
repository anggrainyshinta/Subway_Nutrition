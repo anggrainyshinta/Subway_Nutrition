{
  "nbformat": 4,
  "nbformat_minor": 0,
  "metadata": {
    "colab": {
      "provenance": [],
      "toc_visible": true,
      "authorship_tag": "ABX9TyMbWbZC5Yes3Ge4ohji4f97",
      "include_colab_link": true
    },
    "kernelspec": {
      "name": "python3",
      "display_name": "Python 3"
    },
    "language_info": {
      "name": "python"
    }
  },
  "cells": [
    {
      "cell_type": "markdown",
      "metadata": {
        "id": "view-in-github",
        "colab_type": "text"
      },
      "source": [
        "<a href=\"https://colab.research.google.com/github/anggrainyshinta/Subway_Nutrition/blob/main/Subway_Nutrition.ipynb\" target=\"_parent\"><img src=\"https://colab.research.google.com/assets/colab-badge.svg\" alt=\"Open In Colab\"/></a>"
      ]
    },
    {
      "cell_type": "markdown",
      "source": [
        "## About Dataset"
      ],
      "metadata": {
        "id": "5poU3KWOoeGw"
      }
    },
    {
      "cell_type": "markdown",
      "source": [
        "All items on Subways's menu as of 2021. This dataset provides nutrition facts of every menu item on the Subway menu.\n",
        "\n",
        "*   Category = The group or type of each menu item. Categories include Bread & Toppings, Sandwiches, Wraps, Bowls, Salads, Drinks, Breakfast, Panini, and Extras Menu.\n",
        "*   Items = The specific food items available for consumption.\n",
        "*   Calories (kCal) = This measures the amount of energy in the food, measured in kCal (kilocalories).\n",
        "*   Total Fat (g) : Total fat helps you feel satisfied and can protect against heart disease.\n",
        "*   Saturated Fat (g) : Saturated fat can raise bad cholesterol and triglycerides, increasing the risk for heart disease (although it doesn't need to be avoided entirely).\n",
        "*   Cholestorel (mg) : Cholesterol helps build cells and produce certain hormones, but too much saturated and trans fat can lead to artery-clogging deposits.\n",
        "*   Sodium (mg) : Sodium helps lose water weight but can cause fluid retention if consumed excessively.\n",
        "*   Carbs (g) : Carbs, short for carbohydrates, are the body's main source of energy. It includes sugars and fiber, and fuels essential organs.\n",
        "*   Dietary Fiber (g) : Dietary fiber is a type of carbohydrate that is not digested by the body. It helps with digestion and can make you feel full.\n",
        "*   Sugars (g) : Sugars are sweet substances found in food. Natural sugars are in fruits, while added sugars are in processed foods and drinks.\n",
        "*   Protein (g) : Protein helps the body grow, repair itself, and stay healthy. It can also make you feel full after eating.\n",
        "*   Weight Watchers Pnts : Weight Watchers Points is a system to help manage weight. It assigns points to foods based on their nutritional value.\n",
        "\n",
        "source from dataset kaggle : https://www.kaggle.com/datasets/joebeachcapital/subway-nutrition"
      ],
      "metadata": {
        "id": "e7scVFWyoZ7q"
      }
    },
    {
      "cell_type": "markdown",
      "source": [
        "## Data Preparation"
      ],
      "metadata": {
        "id": "mH4hrwcNoFIG"
      }
    },
    {
      "cell_type": "code",
      "execution_count": 1,
      "metadata": {
        "id": "7jMnnkcJZmxn"
      },
      "outputs": [],
      "source": [
        "# for basic data processing and graphical presentation\n",
        "import numpy as np\n",
        "import pandas as pd\n",
        "import matplotlib.pyplot as plt\n",
        "import seaborn as sns\n",
        "from scipy import stats\n",
        "from scipy.stats import kstest, shapiro"
      ]
    },
    {
      "cell_type": "markdown",
      "source": [
        "## Problem Statement\n",
        "\n",
        "Analyzing Subway's nutrition can help us understand the nutritional value of the food available at Subway.\n",
        "\n",
        "Some issues to consider include:\n",
        "1. Assessing the overall healthiness of the Subway menu.\n",
        "2. Identifying menu items with the highest or lowest nutritional content.\n",
        "3. Analyzing how nutrition differs across menu categories.\n",
        "4. Determining if there is a correlation between certain nutrients.\n",
        "5. Creating healthier menu options or food recommendations based on nutritional content."
      ],
      "metadata": {
        "id": "erH4M0kcFCWz"
      }
    },
    {
      "cell_type": "markdown",
      "source": [
        "## Raw Data Preparation"
      ],
      "metadata": {
        "id": "5PPWN--xoJB1"
      }
    },
    {
      "cell_type": "markdown",
      "source": [
        "Converts a Google Sheet URL into a URL that can be used to read a CSV file"
      ],
      "metadata": {
        "id": "4NXsqgX0aUFf"
      }
    },
    {
      "cell_type": "code",
      "source": [
        "# Open Google Sheet file\n",
        "def data_fullset_url(url):\n",
        "  data_url = 'https://drive.google.com/uc?id=' + url.split('/')[-2]\n",
        "  return data_url"
      ],
      "metadata": {
        "id": "40E6nNiYaQmf"
      },
      "execution_count": 2,
      "outputs": []
    },
    {
      "cell_type": "code",
      "source": [
        "#Reading Dataset\n",
        "data_url = data_fullset_url('https://drive.google.com/file/d/1Hceg0TrRuTvGBKocL8Yz1iQ5O7IMnfFj/view?usp=sharing')\n",
        "data = pd.read_csv(data_url)\n",
        "data.head()"
      ],
      "metadata": {
        "colab": {
          "base_uri": "https://localhost:8080/",
          "height": 345
        },
        "id": "tyEpvcKzaZHE",
        "outputId": "f7eea5a9-b418-43f1-c79e-5e50ca8302ab"
      },
      "execution_count": 3,
      "outputs": [
        {
          "output_type": "execute_result",
          "data": {
            "text/plain": [
              "     Category                   Item  Calories  Total Fat (g)  \\\n",
              "0  Sandwiches            BBQ Chicken       330            4.0   \n",
              "1  Sandwiches                BBQ Rib       580           31.0   \n",
              "2  Sandwiches       Black Forest Ham       260            4.0   \n",
              "3  Sandwiches        Buffalo Chicken       360           12.0   \n",
              "4  Sandwiches  Chicken & Bacon Ranch       530           26.0   \n",
              "\n",
              "   Saturated Fat (g)  Trans Fat (g)  Cholesterol (mg)  Sodium (mg)  Carbs (g)  \\\n",
              "0                1.0            0.0                50          860         50   \n",
              "1               10.0            0.0                60         1260         54   \n",
              "2                1.5            0.0                30          720         42   \n",
              "3                2.0            0.0                55         7710         39   \n",
              "4               10.0            0.5               100         1100         41   \n",
              "\n",
              "   Dietary Fiber (g)  Sugars (g)  Protein (g)  Weight Watchers Pnts  \n",
              "0                  2          16           24                 323.0  \n",
              "1                  3          18           21                 587.0  \n",
              "2                  5           8           18                 251.5  \n",
              "3                  3           5           24                 343.0  \n",
              "4                  3           6           36                 510.0  "
            ],
            "text/html": [
              "\n",
              "  <div id=\"df-02235673-50c6-495d-a4d9-bb87e36eb44f\" class=\"colab-df-container\">\n",
              "    <div>\n",
              "<style scoped>\n",
              "    .dataframe tbody tr th:only-of-type {\n",
              "        vertical-align: middle;\n",
              "    }\n",
              "\n",
              "    .dataframe tbody tr th {\n",
              "        vertical-align: top;\n",
              "    }\n",
              "\n",
              "    .dataframe thead th {\n",
              "        text-align: right;\n",
              "    }\n",
              "</style>\n",
              "<table border=\"1\" class=\"dataframe\">\n",
              "  <thead>\n",
              "    <tr style=\"text-align: right;\">\n",
              "      <th></th>\n",
              "      <th>Category</th>\n",
              "      <th>Item</th>\n",
              "      <th>Calories</th>\n",
              "      <th>Total Fat (g)</th>\n",
              "      <th>Saturated Fat (g)</th>\n",
              "      <th>Trans Fat (g)</th>\n",
              "      <th>Cholesterol (mg)</th>\n",
              "      <th>Sodium (mg)</th>\n",
              "      <th>Carbs (g)</th>\n",
              "      <th>Dietary Fiber (g)</th>\n",
              "      <th>Sugars (g)</th>\n",
              "      <th>Protein (g)</th>\n",
              "      <th>Weight Watchers Pnts</th>\n",
              "    </tr>\n",
              "  </thead>\n",
              "  <tbody>\n",
              "    <tr>\n",
              "      <th>0</th>\n",
              "      <td>Sandwiches</td>\n",
              "      <td>BBQ Chicken</td>\n",
              "      <td>330</td>\n",
              "      <td>4.0</td>\n",
              "      <td>1.0</td>\n",
              "      <td>0.0</td>\n",
              "      <td>50</td>\n",
              "      <td>860</td>\n",
              "      <td>50</td>\n",
              "      <td>2</td>\n",
              "      <td>16</td>\n",
              "      <td>24</td>\n",
              "      <td>323.0</td>\n",
              "    </tr>\n",
              "    <tr>\n",
              "      <th>1</th>\n",
              "      <td>Sandwiches</td>\n",
              "      <td>BBQ Rib</td>\n",
              "      <td>580</td>\n",
              "      <td>31.0</td>\n",
              "      <td>10.0</td>\n",
              "      <td>0.0</td>\n",
              "      <td>60</td>\n",
              "      <td>1260</td>\n",
              "      <td>54</td>\n",
              "      <td>3</td>\n",
              "      <td>18</td>\n",
              "      <td>21</td>\n",
              "      <td>587.0</td>\n",
              "    </tr>\n",
              "    <tr>\n",
              "      <th>2</th>\n",
              "      <td>Sandwiches</td>\n",
              "      <td>Black Forest Ham</td>\n",
              "      <td>260</td>\n",
              "      <td>4.0</td>\n",
              "      <td>1.5</td>\n",
              "      <td>0.0</td>\n",
              "      <td>30</td>\n",
              "      <td>720</td>\n",
              "      <td>42</td>\n",
              "      <td>5</td>\n",
              "      <td>8</td>\n",
              "      <td>18</td>\n",
              "      <td>251.5</td>\n",
              "    </tr>\n",
              "    <tr>\n",
              "      <th>3</th>\n",
              "      <td>Sandwiches</td>\n",
              "      <td>Buffalo Chicken</td>\n",
              "      <td>360</td>\n",
              "      <td>12.0</td>\n",
              "      <td>2.0</td>\n",
              "      <td>0.0</td>\n",
              "      <td>55</td>\n",
              "      <td>7710</td>\n",
              "      <td>39</td>\n",
              "      <td>3</td>\n",
              "      <td>5</td>\n",
              "      <td>24</td>\n",
              "      <td>343.0</td>\n",
              "    </tr>\n",
              "    <tr>\n",
              "      <th>4</th>\n",
              "      <td>Sandwiches</td>\n",
              "      <td>Chicken &amp; Bacon Ranch</td>\n",
              "      <td>530</td>\n",
              "      <td>26.0</td>\n",
              "      <td>10.0</td>\n",
              "      <td>0.5</td>\n",
              "      <td>100</td>\n",
              "      <td>1100</td>\n",
              "      <td>41</td>\n",
              "      <td>3</td>\n",
              "      <td>6</td>\n",
              "      <td>36</td>\n",
              "      <td>510.0</td>\n",
              "    </tr>\n",
              "  </tbody>\n",
              "</table>\n",
              "</div>\n",
              "    <div class=\"colab-df-buttons\">\n",
              "\n",
              "  <div class=\"colab-df-container\">\n",
              "    <button class=\"colab-df-convert\" onclick=\"convertToInteractive('df-02235673-50c6-495d-a4d9-bb87e36eb44f')\"\n",
              "            title=\"Convert this dataframe to an interactive table.\"\n",
              "            style=\"display:none;\">\n",
              "\n",
              "  <svg xmlns=\"http://www.w3.org/2000/svg\" height=\"24px\" viewBox=\"0 -960 960 960\">\n",
              "    <path d=\"M120-120v-720h720v720H120Zm60-500h600v-160H180v160Zm220 220h160v-160H400v160Zm0 220h160v-160H400v160ZM180-400h160v-160H180v160Zm440 0h160v-160H620v160ZM180-180h160v-160H180v160Zm440 0h160v-160H620v160Z\"/>\n",
              "  </svg>\n",
              "    </button>\n",
              "\n",
              "  <style>\n",
              "    .colab-df-container {\n",
              "      display:flex;\n",
              "      gap: 12px;\n",
              "    }\n",
              "\n",
              "    .colab-df-convert {\n",
              "      background-color: #E8F0FE;\n",
              "      border: none;\n",
              "      border-radius: 50%;\n",
              "      cursor: pointer;\n",
              "      display: none;\n",
              "      fill: #1967D2;\n",
              "      height: 32px;\n",
              "      padding: 0 0 0 0;\n",
              "      width: 32px;\n",
              "    }\n",
              "\n",
              "    .colab-df-convert:hover {\n",
              "      background-color: #E2EBFA;\n",
              "      box-shadow: 0px 1px 2px rgba(60, 64, 67, 0.3), 0px 1px 3px 1px rgba(60, 64, 67, 0.15);\n",
              "      fill: #174EA6;\n",
              "    }\n",
              "\n",
              "    .colab-df-buttons div {\n",
              "      margin-bottom: 4px;\n",
              "    }\n",
              "\n",
              "    [theme=dark] .colab-df-convert {\n",
              "      background-color: #3B4455;\n",
              "      fill: #D2E3FC;\n",
              "    }\n",
              "\n",
              "    [theme=dark] .colab-df-convert:hover {\n",
              "      background-color: #434B5C;\n",
              "      box-shadow: 0px 1px 3px 1px rgba(0, 0, 0, 0.15);\n",
              "      filter: drop-shadow(0px 1px 2px rgba(0, 0, 0, 0.3));\n",
              "      fill: #FFFFFF;\n",
              "    }\n",
              "  </style>\n",
              "\n",
              "    <script>\n",
              "      const buttonEl =\n",
              "        document.querySelector('#df-02235673-50c6-495d-a4d9-bb87e36eb44f button.colab-df-convert');\n",
              "      buttonEl.style.display =\n",
              "        google.colab.kernel.accessAllowed ? 'block' : 'none';\n",
              "\n",
              "      async function convertToInteractive(key) {\n",
              "        const element = document.querySelector('#df-02235673-50c6-495d-a4d9-bb87e36eb44f');\n",
              "        const dataTable =\n",
              "          await google.colab.kernel.invokeFunction('convertToInteractive',\n",
              "                                                    [key], {});\n",
              "        if (!dataTable) return;\n",
              "\n",
              "        const docLinkHtml = 'Like what you see? Visit the ' +\n",
              "          '<a target=\"_blank\" href=https://colab.research.google.com/notebooks/data_table.ipynb>data table notebook</a>'\n",
              "          + ' to learn more about interactive tables.';\n",
              "        element.innerHTML = '';\n",
              "        dataTable['output_type'] = 'display_data';\n",
              "        await google.colab.output.renderOutput(dataTable, element);\n",
              "        const docLink = document.createElement('div');\n",
              "        docLink.innerHTML = docLinkHtml;\n",
              "        element.appendChild(docLink);\n",
              "      }\n",
              "    </script>\n",
              "  </div>\n",
              "\n",
              "\n",
              "<div id=\"df-ea8c69f4-6e6c-4d06-bd4b-20b5768404d7\">\n",
              "  <button class=\"colab-df-quickchart\" onclick=\"quickchart('df-ea8c69f4-6e6c-4d06-bd4b-20b5768404d7')\"\n",
              "            title=\"Suggest charts.\"\n",
              "            style=\"display:none;\">\n",
              "\n",
              "<svg xmlns=\"http://www.w3.org/2000/svg\" height=\"24px\"viewBox=\"0 0 24 24\"\n",
              "     width=\"24px\">\n",
              "    <g>\n",
              "        <path d=\"M19 3H5c-1.1 0-2 .9-2 2v14c0 1.1.9 2 2 2h14c1.1 0 2-.9 2-2V5c0-1.1-.9-2-2-2zM9 17H7v-7h2v7zm4 0h-2V7h2v10zm4 0h-2v-4h2v4z\"/>\n",
              "    </g>\n",
              "</svg>\n",
              "  </button>\n",
              "\n",
              "<style>\n",
              "  .colab-df-quickchart {\n",
              "      --bg-color: #E8F0FE;\n",
              "      --fill-color: #1967D2;\n",
              "      --hover-bg-color: #E2EBFA;\n",
              "      --hover-fill-color: #174EA6;\n",
              "      --disabled-fill-color: #AAA;\n",
              "      --disabled-bg-color: #DDD;\n",
              "  }\n",
              "\n",
              "  [theme=dark] .colab-df-quickchart {\n",
              "      --bg-color: #3B4455;\n",
              "      --fill-color: #D2E3FC;\n",
              "      --hover-bg-color: #434B5C;\n",
              "      --hover-fill-color: #FFFFFF;\n",
              "      --disabled-bg-color: #3B4455;\n",
              "      --disabled-fill-color: #666;\n",
              "  }\n",
              "\n",
              "  .colab-df-quickchart {\n",
              "    background-color: var(--bg-color);\n",
              "    border: none;\n",
              "    border-radius: 50%;\n",
              "    cursor: pointer;\n",
              "    display: none;\n",
              "    fill: var(--fill-color);\n",
              "    height: 32px;\n",
              "    padding: 0;\n",
              "    width: 32px;\n",
              "  }\n",
              "\n",
              "  .colab-df-quickchart:hover {\n",
              "    background-color: var(--hover-bg-color);\n",
              "    box-shadow: 0 1px 2px rgba(60, 64, 67, 0.3), 0 1px 3px 1px rgba(60, 64, 67, 0.15);\n",
              "    fill: var(--button-hover-fill-color);\n",
              "  }\n",
              "\n",
              "  .colab-df-quickchart-complete:disabled,\n",
              "  .colab-df-quickchart-complete:disabled:hover {\n",
              "    background-color: var(--disabled-bg-color);\n",
              "    fill: var(--disabled-fill-color);\n",
              "    box-shadow: none;\n",
              "  }\n",
              "\n",
              "  .colab-df-spinner {\n",
              "    border: 2px solid var(--fill-color);\n",
              "    border-color: transparent;\n",
              "    border-bottom-color: var(--fill-color);\n",
              "    animation:\n",
              "      spin 1s steps(1) infinite;\n",
              "  }\n",
              "\n",
              "  @keyframes spin {\n",
              "    0% {\n",
              "      border-color: transparent;\n",
              "      border-bottom-color: var(--fill-color);\n",
              "      border-left-color: var(--fill-color);\n",
              "    }\n",
              "    20% {\n",
              "      border-color: transparent;\n",
              "      border-left-color: var(--fill-color);\n",
              "      border-top-color: var(--fill-color);\n",
              "    }\n",
              "    30% {\n",
              "      border-color: transparent;\n",
              "      border-left-color: var(--fill-color);\n",
              "      border-top-color: var(--fill-color);\n",
              "      border-right-color: var(--fill-color);\n",
              "    }\n",
              "    40% {\n",
              "      border-color: transparent;\n",
              "      border-right-color: var(--fill-color);\n",
              "      border-top-color: var(--fill-color);\n",
              "    }\n",
              "    60% {\n",
              "      border-color: transparent;\n",
              "      border-right-color: var(--fill-color);\n",
              "    }\n",
              "    80% {\n",
              "      border-color: transparent;\n",
              "      border-right-color: var(--fill-color);\n",
              "      border-bottom-color: var(--fill-color);\n",
              "    }\n",
              "    90% {\n",
              "      border-color: transparent;\n",
              "      border-bottom-color: var(--fill-color);\n",
              "    }\n",
              "  }\n",
              "</style>\n",
              "\n",
              "  <script>\n",
              "    async function quickchart(key) {\n",
              "      const quickchartButtonEl =\n",
              "        document.querySelector('#' + key + ' button');\n",
              "      quickchartButtonEl.disabled = true;  // To prevent multiple clicks.\n",
              "      quickchartButtonEl.classList.add('colab-df-spinner');\n",
              "      try {\n",
              "        const charts = await google.colab.kernel.invokeFunction(\n",
              "            'suggestCharts', [key], {});\n",
              "      } catch (error) {\n",
              "        console.error('Error during call to suggestCharts:', error);\n",
              "      }\n",
              "      quickchartButtonEl.classList.remove('colab-df-spinner');\n",
              "      quickchartButtonEl.classList.add('colab-df-quickchart-complete');\n",
              "    }\n",
              "    (() => {\n",
              "      let quickchartButtonEl =\n",
              "        document.querySelector('#df-ea8c69f4-6e6c-4d06-bd4b-20b5768404d7 button');\n",
              "      quickchartButtonEl.style.display =\n",
              "        google.colab.kernel.accessAllowed ? 'block' : 'none';\n",
              "    })();\n",
              "  </script>\n",
              "</div>\n",
              "    </div>\n",
              "  </div>\n"
            ]
          },
          "metadata": {},
          "execution_count": 3
        }
      ]
    },
    {
      "cell_type": "code",
      "source": [
        "data.info()"
      ],
      "metadata": {
        "colab": {
          "base_uri": "https://localhost:8080/"
        },
        "id": "dyQa977obIHF",
        "outputId": "9193c052-6b67-42e4-d037-cc0506ecb586"
      },
      "execution_count": 4,
      "outputs": [
        {
          "output_type": "stream",
          "name": "stdout",
          "text": [
            "<class 'pandas.core.frame.DataFrame'>\n",
            "RangeIndex: 186 entries, 0 to 185\n",
            "Data columns (total 13 columns):\n",
            " #   Column                Non-Null Count  Dtype  \n",
            "---  ------                --------------  -----  \n",
            " 0   Category              186 non-null    object \n",
            " 1   Item                  186 non-null    object \n",
            " 2   Calories              186 non-null    int64  \n",
            " 3   Total Fat (g)         186 non-null    float64\n",
            " 4   Saturated Fat (g)     186 non-null    float64\n",
            " 5   Trans Fat (g)         186 non-null    float64\n",
            " 6   Cholesterol (mg)      186 non-null    int64  \n",
            " 7   Sodium (mg)           186 non-null    int64  \n",
            " 8   Carbs (g)             186 non-null    int64  \n",
            " 9   Dietary Fiber (g)     186 non-null    int64  \n",
            " 10  Sugars (g)            186 non-null    int64  \n",
            " 11  Protein (g)           186 non-null    int64  \n",
            " 12  Weight Watchers Pnts  185 non-null    float64\n",
            "dtypes: float64(4), int64(7), object(2)\n",
            "memory usage: 19.0+ KB\n"
          ]
        }
      ]
    },
    {
      "cell_type": "markdown",
      "source": [
        "## Data Cleaning"
      ],
      "metadata": {
        "id": "bOuJZencrhua"
      }
    },
    {
      "cell_type": "markdown",
      "source": [
        "### Check Missing Values"
      ],
      "metadata": {
        "id": "Io-TKgRXsp1m"
      }
    },
    {
      "cell_type": "markdown",
      "source": [
        "The code provided is calculating and printing the count of null (missing) values for each column"
      ],
      "metadata": {
        "id": "MsAUfV_pqDbf"
      }
    },
    {
      "cell_type": "code",
      "source": [
        "null_counts = data.isnull().sum()\n",
        "print(null_counts)"
      ],
      "metadata": {
        "colab": {
          "base_uri": "https://localhost:8080/"
        },
        "id": "pIZ31ZqCeqvI",
        "outputId": "2208f64e-80b8-4332-95c0-1240e96daa37"
      },
      "execution_count": 5,
      "outputs": [
        {
          "output_type": "stream",
          "name": "stdout",
          "text": [
            "Category                0\n",
            "Item                    0\n",
            "Calories                0\n",
            "Total Fat (g)           0\n",
            "Saturated Fat (g)       0\n",
            "Trans Fat (g)           0\n",
            "Cholesterol (mg)        0\n",
            "Sodium (mg)             0\n",
            "Carbs (g)               0\n",
            "Dietary Fiber (g)       0\n",
            "Sugars (g)              0\n",
            "Protein (g)             0\n",
            "Weight Watchers Pnts    1\n",
            "dtype: int64\n"
          ]
        }
      ]
    },
    {
      "cell_type": "markdown",
      "source": [
        "### Check Unique Values"
      ],
      "metadata": {
        "id": "HIOZ2hjNsjjB"
      }
    },
    {
      "cell_type": "markdown",
      "source": [
        "The code provided seems to be checking for typos or variations in the values of the 'Category' column"
      ],
      "metadata": {
        "id": "cg-oTgDjrenn"
      }
    },
    {
      "cell_type": "code",
      "source": [
        "# Checking typos\n",
        "check = ['Category']\n",
        "\n",
        "for i in check:\n",
        "  unique_data = data[i].value_counts()\n",
        "  print(unique_data,'\\n')"
      ],
      "metadata": {
        "colab": {
          "base_uri": "https://localhost:8080/"
        },
        "id": "wEQ9YfNdYEWJ",
        "outputId": "97a14f47-73d2-4bca-e592-feabcc154f25"
      },
      "execution_count": 6,
      "outputs": [
        {
          "output_type": "stream",
          "name": "stdout",
          "text": [
            "Bread & Toppings    49\n",
            "Sandwiches          42\n",
            "Wraps               26\n",
            "Bowls               25\n",
            "Salads              23\n",
            "Drinks              11\n",
            "Breakfast            4\n",
            "Panini               3\n",
            "Extras               3\n",
            "Name: Category, dtype: int64 \n",
            "\n"
          ]
        }
      ]
    },
    {
      "cell_type": "markdown",
      "source": [
        "This line uses the .fillna() method to replace missing values in the specified column with the value 0."
      ],
      "metadata": {
        "id": "kdr1ga48r5aw"
      }
    },
    {
      "cell_type": "code",
      "source": [
        "data.fillna({'Weight Watchers Pnts': 0}, inplace=True)"
      ],
      "metadata": {
        "id": "kjNZMLXEexYF"
      },
      "execution_count": 7,
      "outputs": []
    },
    {
      "cell_type": "code",
      "source": [
        "data.nunique()"
      ],
      "metadata": {
        "colab": {
          "base_uri": "https://localhost:8080/"
        },
        "id": "FBkemJoiTClA",
        "outputId": "6654b397-85fe-4f8c-e3c0-e82628cfd859"
      },
      "execution_count": 8,
      "outputs": [
        {
          "output_type": "execute_result",
          "data": {
            "text/plain": [
              "Category                  9\n",
              "Item                    133\n",
              "Calories                 78\n",
              "Total Fat (g)            51\n",
              "Saturated Fat (g)        28\n",
              "Trans Fat (g)             5\n",
              "Cholesterol (mg)         36\n",
              "Sodium (mg)             125\n",
              "Carbs (g)                58\n",
              "Dietary Fiber (g)        13\n",
              "Sugars (g)               25\n",
              "Protein (g)              50\n",
              "Weight Watchers Pnts    155\n",
              "dtype: int64"
            ]
          },
          "metadata": {},
          "execution_count": 8
        }
      ]
    },
    {
      "cell_type": "code",
      "source": [
        "data.columns"
      ],
      "metadata": {
        "colab": {
          "base_uri": "https://localhost:8080/"
        },
        "id": "SJ3xv_c953rH",
        "outputId": "860f91bd-8c54-4b24-af49-5ed39cb8cd41"
      },
      "execution_count": 9,
      "outputs": [
        {
          "output_type": "execute_result",
          "data": {
            "text/plain": [
              "Index(['Category', 'Item', 'Calories', 'Total Fat (g)', 'Saturated Fat (g)',\n",
              "       'Trans Fat (g)', 'Cholesterol (mg)', 'Sodium (mg)', 'Carbs (g)',\n",
              "       'Dietary Fiber (g)', 'Sugars (g)', 'Protein (g)',\n",
              "       'Weight Watchers Pnts'],\n",
              "      dtype='object')"
            ]
          },
          "metadata": {},
          "execution_count": 9
        }
      ]
    },
    {
      "cell_type": "markdown",
      "source": [
        "### Convert Data Types"
      ],
      "metadata": {
        "id": "4x_oFW-WtIBH"
      }
    },
    {
      "cell_type": "code",
      "source": [
        "data = data.astype({\"Calories\":'float', \"Cholesterol (mg)\":'float', \"Sodium (mg)\":'float', \"Carbs (g)\":'float', \"Dietary Fiber (g)\":'float', \"Sugars (g)\":'float', \"Protein (g)\":'float'})"
      ],
      "metadata": {
        "id": "oO3_TA_kWHmp"
      },
      "execution_count": 10,
      "outputs": []
    },
    {
      "cell_type": "code",
      "source": [
        "data.info()"
      ],
      "metadata": {
        "colab": {
          "base_uri": "https://localhost:8080/"
        },
        "id": "yKxhnAKxXKVJ",
        "outputId": "1214d13c-41fe-4706-9bfe-47acbbed5cb3"
      },
      "execution_count": 11,
      "outputs": [
        {
          "output_type": "stream",
          "name": "stdout",
          "text": [
            "<class 'pandas.core.frame.DataFrame'>\n",
            "RangeIndex: 186 entries, 0 to 185\n",
            "Data columns (total 13 columns):\n",
            " #   Column                Non-Null Count  Dtype  \n",
            "---  ------                --------------  -----  \n",
            " 0   Category              186 non-null    object \n",
            " 1   Item                  186 non-null    object \n",
            " 2   Calories              186 non-null    float64\n",
            " 3   Total Fat (g)         186 non-null    float64\n",
            " 4   Saturated Fat (g)     186 non-null    float64\n",
            " 5   Trans Fat (g)         186 non-null    float64\n",
            " 6   Cholesterol (mg)      186 non-null    float64\n",
            " 7   Sodium (mg)           186 non-null    float64\n",
            " 8   Carbs (g)             186 non-null    float64\n",
            " 9   Dietary Fiber (g)     186 non-null    float64\n",
            " 10  Sugars (g)            186 non-null    float64\n",
            " 11  Protein (g)           186 non-null    float64\n",
            " 12  Weight Watchers Pnts  186 non-null    float64\n",
            "dtypes: float64(11), object(2)\n",
            "memory usage: 19.0+ KB\n"
          ]
        }
      ]
    },
    {
      "cell_type": "markdown",
      "source": [
        "## Data Exploration and Analysis"
      ],
      "metadata": {
        "id": "mA9Osru9zlmh"
      }
    },
    {
      "cell_type": "markdown",
      "source": [
        "Provides a summary statistics of the numerical columns\n"
      ],
      "metadata": {
        "id": "JJFdEp9by1YD"
      }
    },
    {
      "cell_type": "code",
      "source": [
        "data.describe()"
      ],
      "metadata": {
        "colab": {
          "base_uri": "https://localhost:8080/",
          "height": 355
        },
        "id": "UMbSx-gbdoQo",
        "outputId": "d34c393a-d4cd-4aa7-cd65-5eb19368430e"
      },
      "execution_count": 12,
      "outputs": [
        {
          "output_type": "execute_result",
          "data": {
            "text/plain": [
              "          Calories  Total Fat (g)  Saturated Fat (g)  Trans Fat (g)  \\\n",
              "count   186.000000     186.000000         186.000000     186.000000   \n",
              "mean    316.612903      14.494624           4.876344       0.155914   \n",
              "std     235.703847      14.284559           5.175125       0.378321   \n",
              "min       0.000000       0.000000           0.000000       0.000000   \n",
              "25%     122.500000       3.500000           1.000000       0.000000   \n",
              "50%     290.000000       9.000000           2.500000       0.000000   \n",
              "75%     470.000000      24.000000           8.000000       0.000000   \n",
              "max    1080.000000      65.000000          23.000000       2.000000   \n",
              "\n",
              "       Cholesterol (mg)   Sodium (mg)   Carbs (g)  Dietary Fiber (g)  \\\n",
              "count        186.000000    186.000000  186.000000         186.000000   \n",
              "mean          51.424731   1028.037634   28.596774           2.844086   \n",
              "std           48.390162   1419.398824   23.340113           2.427855   \n",
              "min            0.000000      0.000000    0.000000           0.000000   \n",
              "25%            5.000000    242.500000   10.000000           0.250000   \n",
              "50%           45.000000    800.000000   31.500000           3.000000   \n",
              "75%           90.000000   1427.500000   43.000000           4.000000   \n",
              "max          195.000000  14860.000000  114.000000          16.000000   \n",
              "\n",
              "       Sugars (g)  Protein (g)  Weight Watchers Pnts  \n",
              "count  186.000000   186.000000            186.000000  \n",
              "mean     6.080645    19.215054            308.301075  \n",
              "std      7.727029    15.179182            229.653177  \n",
              "min      0.000000     0.000000              0.000000  \n",
              "25%      2.250000     5.000000            118.000000  \n",
              "50%      5.000000    19.000000            286.500000  \n",
              "75%      7.000000    30.000000            454.500000  \n",
              "max     65.000000    59.000000           1097.000000  "
            ],
            "text/html": [
              "\n",
              "  <div id=\"df-ead9dc97-5279-4f76-b41f-be7dc7d00340\" class=\"colab-df-container\">\n",
              "    <div>\n",
              "<style scoped>\n",
              "    .dataframe tbody tr th:only-of-type {\n",
              "        vertical-align: middle;\n",
              "    }\n",
              "\n",
              "    .dataframe tbody tr th {\n",
              "        vertical-align: top;\n",
              "    }\n",
              "\n",
              "    .dataframe thead th {\n",
              "        text-align: right;\n",
              "    }\n",
              "</style>\n",
              "<table border=\"1\" class=\"dataframe\">\n",
              "  <thead>\n",
              "    <tr style=\"text-align: right;\">\n",
              "      <th></th>\n",
              "      <th>Calories</th>\n",
              "      <th>Total Fat (g)</th>\n",
              "      <th>Saturated Fat (g)</th>\n",
              "      <th>Trans Fat (g)</th>\n",
              "      <th>Cholesterol (mg)</th>\n",
              "      <th>Sodium (mg)</th>\n",
              "      <th>Carbs (g)</th>\n",
              "      <th>Dietary Fiber (g)</th>\n",
              "      <th>Sugars (g)</th>\n",
              "      <th>Protein (g)</th>\n",
              "      <th>Weight Watchers Pnts</th>\n",
              "    </tr>\n",
              "  </thead>\n",
              "  <tbody>\n",
              "    <tr>\n",
              "      <th>count</th>\n",
              "      <td>186.000000</td>\n",
              "      <td>186.000000</td>\n",
              "      <td>186.000000</td>\n",
              "      <td>186.000000</td>\n",
              "      <td>186.000000</td>\n",
              "      <td>186.000000</td>\n",
              "      <td>186.000000</td>\n",
              "      <td>186.000000</td>\n",
              "      <td>186.000000</td>\n",
              "      <td>186.000000</td>\n",
              "      <td>186.000000</td>\n",
              "    </tr>\n",
              "    <tr>\n",
              "      <th>mean</th>\n",
              "      <td>316.612903</td>\n",
              "      <td>14.494624</td>\n",
              "      <td>4.876344</td>\n",
              "      <td>0.155914</td>\n",
              "      <td>51.424731</td>\n",
              "      <td>1028.037634</td>\n",
              "      <td>28.596774</td>\n",
              "      <td>2.844086</td>\n",
              "      <td>6.080645</td>\n",
              "      <td>19.215054</td>\n",
              "      <td>308.301075</td>\n",
              "    </tr>\n",
              "    <tr>\n",
              "      <th>std</th>\n",
              "      <td>235.703847</td>\n",
              "      <td>14.284559</td>\n",
              "      <td>5.175125</td>\n",
              "      <td>0.378321</td>\n",
              "      <td>48.390162</td>\n",
              "      <td>1419.398824</td>\n",
              "      <td>23.340113</td>\n",
              "      <td>2.427855</td>\n",
              "      <td>7.727029</td>\n",
              "      <td>15.179182</td>\n",
              "      <td>229.653177</td>\n",
              "    </tr>\n",
              "    <tr>\n",
              "      <th>min</th>\n",
              "      <td>0.000000</td>\n",
              "      <td>0.000000</td>\n",
              "      <td>0.000000</td>\n",
              "      <td>0.000000</td>\n",
              "      <td>0.000000</td>\n",
              "      <td>0.000000</td>\n",
              "      <td>0.000000</td>\n",
              "      <td>0.000000</td>\n",
              "      <td>0.000000</td>\n",
              "      <td>0.000000</td>\n",
              "      <td>0.000000</td>\n",
              "    </tr>\n",
              "    <tr>\n",
              "      <th>25%</th>\n",
              "      <td>122.500000</td>\n",
              "      <td>3.500000</td>\n",
              "      <td>1.000000</td>\n",
              "      <td>0.000000</td>\n",
              "      <td>5.000000</td>\n",
              "      <td>242.500000</td>\n",
              "      <td>10.000000</td>\n",
              "      <td>0.250000</td>\n",
              "      <td>2.250000</td>\n",
              "      <td>5.000000</td>\n",
              "      <td>118.000000</td>\n",
              "    </tr>\n",
              "    <tr>\n",
              "      <th>50%</th>\n",
              "      <td>290.000000</td>\n",
              "      <td>9.000000</td>\n",
              "      <td>2.500000</td>\n",
              "      <td>0.000000</td>\n",
              "      <td>45.000000</td>\n",
              "      <td>800.000000</td>\n",
              "      <td>31.500000</td>\n",
              "      <td>3.000000</td>\n",
              "      <td>5.000000</td>\n",
              "      <td>19.000000</td>\n",
              "      <td>286.500000</td>\n",
              "    </tr>\n",
              "    <tr>\n",
              "      <th>75%</th>\n",
              "      <td>470.000000</td>\n",
              "      <td>24.000000</td>\n",
              "      <td>8.000000</td>\n",
              "      <td>0.000000</td>\n",
              "      <td>90.000000</td>\n",
              "      <td>1427.500000</td>\n",
              "      <td>43.000000</td>\n",
              "      <td>4.000000</td>\n",
              "      <td>7.000000</td>\n",
              "      <td>30.000000</td>\n",
              "      <td>454.500000</td>\n",
              "    </tr>\n",
              "    <tr>\n",
              "      <th>max</th>\n",
              "      <td>1080.000000</td>\n",
              "      <td>65.000000</td>\n",
              "      <td>23.000000</td>\n",
              "      <td>2.000000</td>\n",
              "      <td>195.000000</td>\n",
              "      <td>14860.000000</td>\n",
              "      <td>114.000000</td>\n",
              "      <td>16.000000</td>\n",
              "      <td>65.000000</td>\n",
              "      <td>59.000000</td>\n",
              "      <td>1097.000000</td>\n",
              "    </tr>\n",
              "  </tbody>\n",
              "</table>\n",
              "</div>\n",
              "    <div class=\"colab-df-buttons\">\n",
              "\n",
              "  <div class=\"colab-df-container\">\n",
              "    <button class=\"colab-df-convert\" onclick=\"convertToInteractive('df-ead9dc97-5279-4f76-b41f-be7dc7d00340')\"\n",
              "            title=\"Convert this dataframe to an interactive table.\"\n",
              "            style=\"display:none;\">\n",
              "\n",
              "  <svg xmlns=\"http://www.w3.org/2000/svg\" height=\"24px\" viewBox=\"0 -960 960 960\">\n",
              "    <path d=\"M120-120v-720h720v720H120Zm60-500h600v-160H180v160Zm220 220h160v-160H400v160Zm0 220h160v-160H400v160ZM180-400h160v-160H180v160Zm440 0h160v-160H620v160ZM180-180h160v-160H180v160Zm440 0h160v-160H620v160Z\"/>\n",
              "  </svg>\n",
              "    </button>\n",
              "\n",
              "  <style>\n",
              "    .colab-df-container {\n",
              "      display:flex;\n",
              "      gap: 12px;\n",
              "    }\n",
              "\n",
              "    .colab-df-convert {\n",
              "      background-color: #E8F0FE;\n",
              "      border: none;\n",
              "      border-radius: 50%;\n",
              "      cursor: pointer;\n",
              "      display: none;\n",
              "      fill: #1967D2;\n",
              "      height: 32px;\n",
              "      padding: 0 0 0 0;\n",
              "      width: 32px;\n",
              "    }\n",
              "\n",
              "    .colab-df-convert:hover {\n",
              "      background-color: #E2EBFA;\n",
              "      box-shadow: 0px 1px 2px rgba(60, 64, 67, 0.3), 0px 1px 3px 1px rgba(60, 64, 67, 0.15);\n",
              "      fill: #174EA6;\n",
              "    }\n",
              "\n",
              "    .colab-df-buttons div {\n",
              "      margin-bottom: 4px;\n",
              "    }\n",
              "\n",
              "    [theme=dark] .colab-df-convert {\n",
              "      background-color: #3B4455;\n",
              "      fill: #D2E3FC;\n",
              "    }\n",
              "\n",
              "    [theme=dark] .colab-df-convert:hover {\n",
              "      background-color: #434B5C;\n",
              "      box-shadow: 0px 1px 3px 1px rgba(0, 0, 0, 0.15);\n",
              "      filter: drop-shadow(0px 1px 2px rgba(0, 0, 0, 0.3));\n",
              "      fill: #FFFFFF;\n",
              "    }\n",
              "  </style>\n",
              "\n",
              "    <script>\n",
              "      const buttonEl =\n",
              "        document.querySelector('#df-ead9dc97-5279-4f76-b41f-be7dc7d00340 button.colab-df-convert');\n",
              "      buttonEl.style.display =\n",
              "        google.colab.kernel.accessAllowed ? 'block' : 'none';\n",
              "\n",
              "      async function convertToInteractive(key) {\n",
              "        const element = document.querySelector('#df-ead9dc97-5279-4f76-b41f-be7dc7d00340');\n",
              "        const dataTable =\n",
              "          await google.colab.kernel.invokeFunction('convertToInteractive',\n",
              "                                                    [key], {});\n",
              "        if (!dataTable) return;\n",
              "\n",
              "        const docLinkHtml = 'Like what you see? Visit the ' +\n",
              "          '<a target=\"_blank\" href=https://colab.research.google.com/notebooks/data_table.ipynb>data table notebook</a>'\n",
              "          + ' to learn more about interactive tables.';\n",
              "        element.innerHTML = '';\n",
              "        dataTable['output_type'] = 'display_data';\n",
              "        await google.colab.output.renderOutput(dataTable, element);\n",
              "        const docLink = document.createElement('div');\n",
              "        docLink.innerHTML = docLinkHtml;\n",
              "        element.appendChild(docLink);\n",
              "      }\n",
              "    </script>\n",
              "  </div>\n",
              "\n",
              "\n",
              "<div id=\"df-f93a485b-6ab8-4da9-834c-ef1cde3026ec\">\n",
              "  <button class=\"colab-df-quickchart\" onclick=\"quickchart('df-f93a485b-6ab8-4da9-834c-ef1cde3026ec')\"\n",
              "            title=\"Suggest charts.\"\n",
              "            style=\"display:none;\">\n",
              "\n",
              "<svg xmlns=\"http://www.w3.org/2000/svg\" height=\"24px\"viewBox=\"0 0 24 24\"\n",
              "     width=\"24px\">\n",
              "    <g>\n",
              "        <path d=\"M19 3H5c-1.1 0-2 .9-2 2v14c0 1.1.9 2 2 2h14c1.1 0 2-.9 2-2V5c0-1.1-.9-2-2-2zM9 17H7v-7h2v7zm4 0h-2V7h2v10zm4 0h-2v-4h2v4z\"/>\n",
              "    </g>\n",
              "</svg>\n",
              "  </button>\n",
              "\n",
              "<style>\n",
              "  .colab-df-quickchart {\n",
              "      --bg-color: #E8F0FE;\n",
              "      --fill-color: #1967D2;\n",
              "      --hover-bg-color: #E2EBFA;\n",
              "      --hover-fill-color: #174EA6;\n",
              "      --disabled-fill-color: #AAA;\n",
              "      --disabled-bg-color: #DDD;\n",
              "  }\n",
              "\n",
              "  [theme=dark] .colab-df-quickchart {\n",
              "      --bg-color: #3B4455;\n",
              "      --fill-color: #D2E3FC;\n",
              "      --hover-bg-color: #434B5C;\n",
              "      --hover-fill-color: #FFFFFF;\n",
              "      --disabled-bg-color: #3B4455;\n",
              "      --disabled-fill-color: #666;\n",
              "  }\n",
              "\n",
              "  .colab-df-quickchart {\n",
              "    background-color: var(--bg-color);\n",
              "    border: none;\n",
              "    border-radius: 50%;\n",
              "    cursor: pointer;\n",
              "    display: none;\n",
              "    fill: var(--fill-color);\n",
              "    height: 32px;\n",
              "    padding: 0;\n",
              "    width: 32px;\n",
              "  }\n",
              "\n",
              "  .colab-df-quickchart:hover {\n",
              "    background-color: var(--hover-bg-color);\n",
              "    box-shadow: 0 1px 2px rgba(60, 64, 67, 0.3), 0 1px 3px 1px rgba(60, 64, 67, 0.15);\n",
              "    fill: var(--button-hover-fill-color);\n",
              "  }\n",
              "\n",
              "  .colab-df-quickchart-complete:disabled,\n",
              "  .colab-df-quickchart-complete:disabled:hover {\n",
              "    background-color: var(--disabled-bg-color);\n",
              "    fill: var(--disabled-fill-color);\n",
              "    box-shadow: none;\n",
              "  }\n",
              "\n",
              "  .colab-df-spinner {\n",
              "    border: 2px solid var(--fill-color);\n",
              "    border-color: transparent;\n",
              "    border-bottom-color: var(--fill-color);\n",
              "    animation:\n",
              "      spin 1s steps(1) infinite;\n",
              "  }\n",
              "\n",
              "  @keyframes spin {\n",
              "    0% {\n",
              "      border-color: transparent;\n",
              "      border-bottom-color: var(--fill-color);\n",
              "      border-left-color: var(--fill-color);\n",
              "    }\n",
              "    20% {\n",
              "      border-color: transparent;\n",
              "      border-left-color: var(--fill-color);\n",
              "      border-top-color: var(--fill-color);\n",
              "    }\n",
              "    30% {\n",
              "      border-color: transparent;\n",
              "      border-left-color: var(--fill-color);\n",
              "      border-top-color: var(--fill-color);\n",
              "      border-right-color: var(--fill-color);\n",
              "    }\n",
              "    40% {\n",
              "      border-color: transparent;\n",
              "      border-right-color: var(--fill-color);\n",
              "      border-top-color: var(--fill-color);\n",
              "    }\n",
              "    60% {\n",
              "      border-color: transparent;\n",
              "      border-right-color: var(--fill-color);\n",
              "    }\n",
              "    80% {\n",
              "      border-color: transparent;\n",
              "      border-right-color: var(--fill-color);\n",
              "      border-bottom-color: var(--fill-color);\n",
              "    }\n",
              "    90% {\n",
              "      border-color: transparent;\n",
              "      border-bottom-color: var(--fill-color);\n",
              "    }\n",
              "  }\n",
              "</style>\n",
              "\n",
              "  <script>\n",
              "    async function quickchart(key) {\n",
              "      const quickchartButtonEl =\n",
              "        document.querySelector('#' + key + ' button');\n",
              "      quickchartButtonEl.disabled = true;  // To prevent multiple clicks.\n",
              "      quickchartButtonEl.classList.add('colab-df-spinner');\n",
              "      try {\n",
              "        const charts = await google.colab.kernel.invokeFunction(\n",
              "            'suggestCharts', [key], {});\n",
              "      } catch (error) {\n",
              "        console.error('Error during call to suggestCharts:', error);\n",
              "      }\n",
              "      quickchartButtonEl.classList.remove('colab-df-spinner');\n",
              "      quickchartButtonEl.classList.add('colab-df-quickchart-complete');\n",
              "    }\n",
              "    (() => {\n",
              "      let quickchartButtonEl =\n",
              "        document.querySelector('#df-f93a485b-6ab8-4da9-834c-ef1cde3026ec button');\n",
              "      quickchartButtonEl.style.display =\n",
              "        google.colab.kernel.accessAllowed ? 'block' : 'none';\n",
              "    })();\n",
              "  </script>\n",
              "</div>\n",
              "    </div>\n",
              "  </div>\n"
            ]
          },
          "metadata": {},
          "execution_count": 12
        }
      ]
    },
    {
      "cell_type": "markdown",
      "source": [
        "This summary provides a clear overview of how the numbers are distributed, what the middle values are, and how much the values vary for each measurement. Here's what you can understand from this summary:\n",
        "\n",
        "*   Calories: On average, a menu item contains about 317 calories, but the range varies significantly from as low as 0 to as high as 1080 calories.\n",
        "*   Total Fat (g): The average amount of total fat in an item is approximately 14.5 grams, and there is a range of values from low to high.\n",
        "*   Saturated Fat (g): The average amount of saturated fat in an item is about 4.9 grams, and this value also varies across items.\n",
        "*   Trans Fat (g): The average content of trans fat is very low, around 0.16 grams.\n",
        "*   Cholesterol (mg): On average, an item contains around 51 milligrams of cholesterol, but some items have higher amounts.\n",
        "*   Sodium (mg): The average sodium content is about 1028 milligrams, with a wide range of values across items.\n",
        "*   Carbs (g): The average carbohydrate content is approximately 28.6 grams.\n",
        "*   Dietary Fiber (g): The average amount of dietary fiber is roughly 2.84 grams.\n",
        "*   Sugars (g): The average sugar content is around 6.08 grams.\n",
        "*   Protein (g): The average protein content is about 19.22 grams.\n",
        "*   Weight Watchers Pnts: On average, the value for Weight Watchers Points is around 308, but it can vary widely from 0 to 1097.\n",
        "\n",
        "\n",
        "\n",
        "\n",
        "\n",
        "\n",
        "\n",
        "\n",
        "\n"
      ],
      "metadata": {
        "id": "-HzJQQDx3LXI"
      }
    },
    {
      "cell_type": "code",
      "source": [
        "data.hist(figsize=(10,10));"
      ],
      "metadata": {
        "colab": {
          "base_uri": "https://localhost:8080/",
          "height": 853
        },
        "id": "Nbyl0HOrZQyQ",
        "outputId": "5d81d306-ca5a-477d-d9c8-6506ecd00a71"
      },
      "execution_count": 19,
      "outputs": [
        {
          "output_type": "display_data",
          "data": {
            "text/plain": [
              "<Figure size 1000x1000 with 12 Axes>"
            ],
            "image/png": "[encoded data removed]"
          },
          "metadata": {}
        }
      ]
    },
    {
      "cell_type": "code",
      "source": [
        "correlation_matrix = data[['Calories', 'Total Fat (g)', 'Sodium (mg)', 'Protein (g)']].corr()\n",
        "print(correlation_matrix)"
      ],
      "metadata": {
        "colab": {
          "base_uri": "https://localhost:8080/"
        },
        "id": "jorkP61YDtqU",
        "outputId": "713c69de-5ee6-4f1b-828e-cf74facc8a23"
      },
      "execution_count": 14,
      "outputs": [
        {
          "output_type": "stream",
          "name": "stdout",
          "text": [
            "               Calories  Total Fat (g)  Sodium (mg)  Protein (g)\n",
            "Calories       1.000000       0.897577     0.450235     0.827689\n",
            "Total Fat (g)  0.897577       1.000000     0.397826     0.696522\n",
            "Sodium (mg)    0.450235       0.397826     1.000000     0.480094\n",
            "Protein (g)    0.827689       0.696522     0.480094     1.000000\n"
          ]
        }
      ]
    },
    {
      "cell_type": "markdown",
      "source": [
        "- Correlation is always equal to 1 because the same variables correlate perfectly.\n",
        "- Positive correlation between calories and total fat (0.897577) and between calories and protein (0.827689) indicates that high-calorie items tend to have more total fat and protein.\n",
        "- Positive correlation between total fat and protein (0.696522) suggests that high-total fat items also tend to contain more protein. Positive correlations between sodium and calories (0.450235) and sodium and protein (0.480094) also indicate that high-sodium items tend to have more calories and protein."
      ],
      "metadata": {
        "id": "NOUmqyaSEOGF"
      }
    },
    {
      "cell_type": "markdown",
      "source": [
        "### Data Type Segregation"
      ],
      "metadata": {
        "id": "eurVuQfd6Hnt"
      }
    },
    {
      "cell_type": "markdown",
      "source": [
        "These lists can be helpful if want to perform different types of analyses or transformations on each type of column separately.\n"
      ],
      "metadata": {
        "id": "NFjMR1EM5J-G"
      }
    },
    {
      "cell_type": "code",
      "source": [
        "df_numeric = data.select_dtypes(include=[np.number])\n",
        "df_categoric = data.select_dtypes(exclude=[np.number])\n",
        "\n",
        "df_numeric_cols = list(df_numeric.columns)\n",
        "df_categoric_cols = list(df_categoric.columns)"
      ],
      "metadata": {
        "id": "LQL-YNV1XXdy"
      },
      "execution_count": 16,
      "outputs": []
    },
    {
      "cell_type": "markdown",
      "source": [
        "### Max and Min in Each Column"
      ],
      "metadata": {
        "id": "qDXh0CUxYg6y"
      }
    },
    {
      "cell_type": "markdown",
      "source": [
        "Lets see which menu items had maximum and minimum in the columns."
      ],
      "metadata": {
        "id": "TbJKdy1hYhq4"
      }
    },
    {
      "cell_type": "code",
      "source": [
        "def maxAndMinStats(dataframe, cols):\n",
        "    \"\"\"Extracting out players with interesting statistics\"\"\"\n",
        "    def maxAndMin(dataf, column):\n",
        "        return dataf.loc[dataf[column].idxmax()], dataf.loc[dataf[column].idxmin()]\n",
        "\n",
        "    maxMinList = []\n",
        "\n",
        "    for col in cols:\n",
        "        print('Column: ', col)\n",
        "        res = maxAndMin(dataframe, col)\n",
        "        max_, min_ = res\n",
        "        print('Max in ', col, ': ', max_['Item'])\n",
        "        print('Min in ', col, ': ', min_['Item'], '\\n')\n",
        "\n",
        "        maxMinList.append(res)\n",
        "\n",
        "    return maxMinList"
      ],
      "metadata": {
        "id": "jWfDygqNY8cN"
      },
      "execution_count": 17,
      "outputs": []
    },
    {
      "cell_type": "code",
      "source": [
        "maxMinStats = maxAndMinStats(data, df_numeric_cols)"
      ],
      "metadata": {
        "colab": {
          "base_uri": "https://localhost:8080/"
        },
        "id": "xdYzllCLZAaC",
        "outputId": "cd3f0d1a-f7cd-4602-9230-3cd3180f404e"
      },
      "execution_count": 18,
      "outputs": [
        {
          "output_type": "stream",
          "name": "stdout",
          "text": [
            "Column:  Calories\n",
            "Max in  Calories :  BBQ Rib Signature Wrap\n",
            "Min in  Calories :  Banana Peppers \n",
            "\n",
            "Column:  Total Fat (g)\n",
            "Max in  Total Fat (g) :  BBQ Rib Signature Wrap\n",
            "Min in  Total Fat (g) :  Banana Peppers \n",
            "\n",
            "Column:  Saturated Fat (g)\n",
            "Max in  Saturated Fat (g) :  BBQ Rib Signature Wrap\n",
            "Min in  Saturated Fat (g) :  Turkey Breast \n",
            "\n",
            "Column:  Trans Fat (g)\n",
            "Max in  Trans Fat (g) :  Meatball Marinara\n",
            "Min in  Trans Fat (g) :  BBQ Chicken \n",
            "\n",
            "Column:  Cholesterol (mg)\n",
            "Max in  Cholesterol (mg) :  Steak, Egg & Cheese\n",
            "Min in  Cholesterol (mg) :  Veggie Delite® \n",
            "\n",
            "Column:  Sodium (mg)\n",
            "Max in  Sodium (mg) :  Buffalo Chicken\n",
            "Min in  Sodium (mg) :  Cucumbers \n",
            "\n",
            "Column:  Carbs (g)\n",
            "Max in  Carbs (g) :  Cripsy Cauliflower Ranch Signature Wrap\n",
            "Min in  Carbs (g) :  Banana Peppers \n",
            "\n",
            "Column:  Dietary Fiber (g)\n",
            "Max in  Dietary Fiber (g) :  Turkey & Bacon with Avocado Salad\n",
            "Min in  Dietary Fiber (g) :  American Cheese \n",
            "\n",
            "Column:  Sugars (g)\n",
            "Max in  Sugars (g) :  Coca-Cola®\n",
            "Min in  Sugars (g) :  American Cheese \n",
            "\n",
            "Column:  Protein (g)\n",
            "Max in  Protein (g) :  Chicken & Bacon Ranch\n",
            "Min in  Protein (g) :  Banana Peppers \n",
            "\n",
            "Column:  Weight Watchers Pnts\n",
            "Max in  Weight Watchers Pnts :  BBQ Rib Signature Wrap\n",
            "Min in  Weight Watchers Pnts :  Banana Peppers \n",
            "\n"
          ]
        }
      ]
    },
    {
      "cell_type": "code",
      "source": [
        "df_categoric.sample(5)"
      ],
      "metadata": {
        "colab": {
          "base_uri": "https://localhost:8080/",
          "height": 206
        },
        "id": "nsuNDanhZY-4",
        "outputId": "94f21ffb-61ae-409c-bf33-c08046e23328"
      },
      "execution_count": 21,
      "outputs": [
        {
          "output_type": "execute_result",
          "data": {
            "text/plain": [
              "             Category                 Item\n",
              "161  Bread & Toppings  Rosemary & Sea Salt\n",
              "2          Sandwiches     Black Forest Ham\n",
              "95              Bowls         Veggie Patty\n",
              "130  Bread & Toppings         Black Olives\n",
              "1          Sandwiches              BBQ Rib"
            ],
            "text/html": [
              "\n",
              "  <div id=\"df-8ddd269c-5a2d-42c1-93e9-4a9446b8bfa7\" class=\"colab-df-container\">\n",
              "    <div>\n",
              "<style scoped>\n",
              "    .dataframe tbody tr th:only-of-type {\n",
              "        vertical-align: middle;\n",
              "    }\n",
              "\n",
              "    .dataframe tbody tr th {\n",
              "        vertical-align: top;\n",
              "    }\n",
              "\n",
              "    .dataframe thead th {\n",
              "        text-align: right;\n",
              "    }\n",
              "</style>\n",
              "<table border=\"1\" class=\"dataframe\">\n",
              "  <thead>\n",
              "    <tr style=\"text-align: right;\">\n",
              "      <th></th>\n",
              "      <th>Category</th>\n",
              "      <th>Item</th>\n",
              "    </tr>\n",
              "  </thead>\n",
              "  <tbody>\n",
              "    <tr>\n",
              "      <th>161</th>\n",
              "      <td>Bread &amp; Toppings</td>\n",
              "      <td>Rosemary &amp; Sea Salt</td>\n",
              "    </tr>\n",
              "    <tr>\n",
              "      <th>2</th>\n",
              "      <td>Sandwiches</td>\n",
              "      <td>Black Forest Ham</td>\n",
              "    </tr>\n",
              "    <tr>\n",
              "      <th>95</th>\n",
              "      <td>Bowls</td>\n",
              "      <td>Veggie Patty</td>\n",
              "    </tr>\n",
              "    <tr>\n",
              "      <th>130</th>\n",
              "      <td>Bread &amp; Toppings</td>\n",
              "      <td>Black Olives</td>\n",
              "    </tr>\n",
              "    <tr>\n",
              "      <th>1</th>\n",
              "      <td>Sandwiches</td>\n",
              "      <td>BBQ Rib</td>\n",
              "    </tr>\n",
              "  </tbody>\n",
              "</table>\n",
              "</div>\n",
              "    <div class=\"colab-df-buttons\">\n",
              "\n",
              "  <div class=\"colab-df-container\">\n",
              "    <button class=\"colab-df-convert\" onclick=\"convertToInteractive('df-8ddd269c-5a2d-42c1-93e9-4a9446b8bfa7')\"\n",
              "            title=\"Convert this dataframe to an interactive table.\"\n",
              "            style=\"display:none;\">\n",
              "\n",
              "  <svg xmlns=\"http://www.w3.org/2000/svg\" height=\"24px\" viewBox=\"0 -960 960 960\">\n",
              "    <path d=\"M120-120v-720h720v720H120Zm60-500h600v-160H180v160Zm220 220h160v-160H400v160Zm0 220h160v-160H400v160ZM180-400h160v-160H180v160Zm440 0h160v-160H620v160ZM180-180h160v-160H180v160Zm440 0h160v-160H620v160Z\"/>\n",
              "  </svg>\n",
              "    </button>\n",
              "\n",
              "  <style>\n",
              "    .colab-df-container {\n",
              "      display:flex;\n",
              "      gap: 12px;\n",
              "    }\n",
              "\n",
              "    .colab-df-convert {\n",
              "      background-color: #E8F0FE;\n",
              "      border: none;\n",
              "      border-radius: 50%;\n",
              "      cursor: pointer;\n",
              "      display: none;\n",
              "      fill: #1967D2;\n",
              "      height: 32px;\n",
              "      padding: 0 0 0 0;\n",
              "      width: 32px;\n",
              "    }\n",
              "\n",
              "    .colab-df-convert:hover {\n",
              "      background-color: #E2EBFA;\n",
              "      box-shadow: 0px 1px 2px rgba(60, 64, 67, 0.3), 0px 1px 3px 1px rgba(60, 64, 67, 0.15);\n",
              "      fill: #174EA6;\n",
              "    }\n",
              "\n",
              "    .colab-df-buttons div {\n",
              "      margin-bottom: 4px;\n",
              "    }\n",
              "\n",
              "    [theme=dark] .colab-df-convert {\n",
              "      background-color: #3B4455;\n",
              "      fill: #D2E3FC;\n",
              "    }\n",
              "\n",
              "    [theme=dark] .colab-df-convert:hover {\n",
              "      background-color: #434B5C;\n",
              "      box-shadow: 0px 1px 3px 1px rgba(0, 0, 0, 0.15);\n",
              "      filter: drop-shadow(0px 1px 2px rgba(0, 0, 0, 0.3));\n",
              "      fill: #FFFFFF;\n",
              "    }\n",
              "  </style>\n",
              "\n",
              "    <script>\n",
              "      const buttonEl =\n",
              "        document.querySelector('#df-8ddd269c-5a2d-42c1-93e9-4a9446b8bfa7 button.colab-df-convert');\n",
              "      buttonEl.style.display =\n",
              "        google.colab.kernel.accessAllowed ? 'block' : 'none';\n",
              "\n",
              "      async function convertToInteractive(key) {\n",
              "        const element = document.querySelector('#df-8ddd269c-5a2d-42c1-93e9-4a9446b8bfa7');\n",
              "        const dataTable =\n",
              "          await google.colab.kernel.invokeFunction('convertToInteractive',\n",
              "                                                    [key], {});\n",
              "        if (!dataTable) return;\n",
              "\n",
              "        const docLinkHtml = 'Like what you see? Visit the ' +\n",
              "          '<a target=\"_blank\" href=https://colab.research.google.com/notebooks/data_table.ipynb>data table notebook</a>'\n",
              "          + ' to learn more about interactive tables.';\n",
              "        element.innerHTML = '';\n",
              "        dataTable['output_type'] = 'display_data';\n",
              "        await google.colab.output.renderOutput(dataTable, element);\n",
              "        const docLink = document.createElement('div');\n",
              "        docLink.innerHTML = docLinkHtml;\n",
              "        element.appendChild(docLink);\n",
              "      }\n",
              "    </script>\n",
              "  </div>\n",
              "\n",
              "\n",
              "<div id=\"df-5eb403e6-0cb7-498a-8562-6945b57997c8\">\n",
              "  <button class=\"colab-df-quickchart\" onclick=\"quickchart('df-5eb403e6-0cb7-498a-8562-6945b57997c8')\"\n",
              "            title=\"Suggest charts.\"\n",
              "            style=\"display:none;\">\n",
              "\n",
              "<svg xmlns=\"http://www.w3.org/2000/svg\" height=\"24px\"viewBox=\"0 0 24 24\"\n",
              "     width=\"24px\">\n",
              "    <g>\n",
              "        <path d=\"M19 3H5c-1.1 0-2 .9-2 2v14c0 1.1.9 2 2 2h14c1.1 0 2-.9 2-2V5c0-1.1-.9-2-2-2zM9 17H7v-7h2v7zm4 0h-2V7h2v10zm4 0h-2v-4h2v4z\"/>\n",
              "    </g>\n",
              "</svg>\n",
              "  </button>\n",
              "\n",
              "<style>\n",
              "  .colab-df-quickchart {\n",
              "      --bg-color: #E8F0FE;\n",
              "      --fill-color: #1967D2;\n",
              "      --hover-bg-color: #E2EBFA;\n",
              "      --hover-fill-color: #174EA6;\n",
              "      --disabled-fill-color: #AAA;\n",
              "      --disabled-bg-color: #DDD;\n",
              "  }\n",
              "\n",
              "  [theme=dark] .colab-df-quickchart {\n",
              "      --bg-color: #3B4455;\n",
              "      --fill-color: #D2E3FC;\n",
              "      --hover-bg-color: #434B5C;\n",
              "      --hover-fill-color: #FFFFFF;\n",
              "      --disabled-bg-color: #3B4455;\n",
              "      --disabled-fill-color: #666;\n",
              "  }\n",
              "\n",
              "  .colab-df-quickchart {\n",
              "    background-color: var(--bg-color);\n",
              "    border: none;\n",
              "    border-radius: 50%;\n",
              "    cursor: pointer;\n",
              "    display: none;\n",
              "    fill: var(--fill-color);\n",
              "    height: 32px;\n",
              "    padding: 0;\n",
              "    width: 32px;\n",
              "  }\n",
              "\n",
              "  .colab-df-quickchart:hover {\n",
              "    background-color: var(--hover-bg-color);\n",
              "    box-shadow: 0 1px 2px rgba(60, 64, 67, 0.3), 0 1px 3px 1px rgba(60, 64, 67, 0.15);\n",
              "    fill: var(--button-hover-fill-color);\n",
              "  }\n",
              "\n",
              "  .colab-df-quickchart-complete:disabled,\n",
              "  .colab-df-quickchart-complete:disabled:hover {\n",
              "    background-color: var(--disabled-bg-color);\n",
              "    fill: var(--disabled-fill-color);\n",
              "    box-shadow: none;\n",
              "  }\n",
              "\n",
              "  .colab-df-spinner {\n",
              "    border: 2px solid var(--fill-color);\n",
              "    border-color: transparent;\n",
              "    border-bottom-color: var(--fill-color);\n",
              "    animation:\n",
              "      spin 1s steps(1) infinite;\n",
              "  }\n",
              "\n",
              "  @keyframes spin {\n",
              "    0% {\n",
              "      border-color: transparent;\n",
              "      border-bottom-color: var(--fill-color);\n",
              "      border-left-color: var(--fill-color);\n",
              "    }\n",
              "    20% {\n",
              "      border-color: transparent;\n",
              "      border-left-color: var(--fill-color);\n",
              "      border-top-color: var(--fill-color);\n",
              "    }\n",
              "    30% {\n",
              "      border-color: transparent;\n",
              "      border-left-color: var(--fill-color);\n",
              "      border-top-color: var(--fill-color);\n",
              "      border-right-color: var(--fill-color);\n",
              "    }\n",
              "    40% {\n",
              "      border-color: transparent;\n",
              "      border-right-color: var(--fill-color);\n",
              "      border-top-color: var(--fill-color);\n",
              "    }\n",
              "    60% {\n",
              "      border-color: transparent;\n",
              "      border-right-color: var(--fill-color);\n",
              "    }\n",
              "    80% {\n",
              "      border-color: transparent;\n",
              "      border-right-color: var(--fill-color);\n",
              "      border-bottom-color: var(--fill-color);\n",
              "    }\n",
              "    90% {\n",
              "      border-color: transparent;\n",
              "      border-bottom-color: var(--fill-color);\n",
              "    }\n",
              "  }\n",
              "</style>\n",
              "\n",
              "  <script>\n",
              "    async function quickchart(key) {\n",
              "      const quickchartButtonEl =\n",
              "        document.querySelector('#' + key + ' button');\n",
              "      quickchartButtonEl.disabled = true;  // To prevent multiple clicks.\n",
              "      quickchartButtonEl.classList.add('colab-df-spinner');\n",
              "      try {\n",
              "        const charts = await google.colab.kernel.invokeFunction(\n",
              "            'suggestCharts', [key], {});\n",
              "      } catch (error) {\n",
              "        console.error('Error during call to suggestCharts:', error);\n",
              "      }\n",
              "      quickchartButtonEl.classList.remove('colab-df-spinner');\n",
              "      quickchartButtonEl.classList.add('colab-df-quickchart-complete');\n",
              "    }\n",
              "    (() => {\n",
              "      let quickchartButtonEl =\n",
              "        document.querySelector('#df-5eb403e6-0cb7-498a-8562-6945b57997c8 button');\n",
              "      quickchartButtonEl.style.display =\n",
              "        google.colab.kernel.accessAllowed ? 'block' : 'none';\n",
              "    })();\n",
              "  </script>\n",
              "</div>\n",
              "    </div>\n",
              "  </div>\n"
            ]
          },
          "metadata": {},
          "execution_count": 21
        }
      ]
    },
    {
      "cell_type": "markdown",
      "source": [
        "### Analyzing How Nutrition Differs Across Menu Categories"
      ],
      "metadata": {
        "id": "LLQcWcalARuD"
      }
    },
    {
      "cell_type": "code",
      "source": [
        "sns.set(rc={'figure.figsize':(14,5)})\n",
        "sns.countplot(x='Category', data=data, palette=\"Blues_d\").set_title('Count of Each Category');"
      ],
      "metadata": {
        "colab": {
          "base_uri": "https://localhost:8080/",
          "height": 429
        },
        "id": "vLzevablZyod",
        "outputId": "3afe2c93-ca1e-4189-c28c-ff51c7a5d89a"
      },
      "execution_count": 22,
      "outputs": [
        {
          "output_type": "display_data",
          "data": {
            "text/plain": [
              "<Figure size 1400x500 with 1 Axes>"
            ],
            "image/png": "[encoded data removed]"
          },
          "metadata": {}
        }
      ]
    },
    {
      "cell_type": "markdown",
      "source": [
        "From the analysis of the graph above:\n",
        "- The highest values are in the Bread & Toppings, Sandwiches, and Wraps categories because Subway is known for its specialization in offering a variety of customizable sandwiches to cater to customer preferences.\n",
        "- The lowest values are found in Extras, Panini, and Breakfast. This includes some options in the \"Panini\" and \"Breakfast\" categories, possibly because they are not as popular as Subway's main sandwiches.\n",
        "\n",
        "However, it's important to remember that Subway is known for its menu diversity and allows customers to customize their orders according to their own preferences. The most popular menu choices can vary depending on factors such as geographical region and current trends in a specific location."
      ],
      "metadata": {
        "id": "o9plO8kEN3ON"
      }
    },
    {
      "cell_type": "markdown",
      "source": [
        "### Analyzing High-Calorie Menu Items"
      ],
      "metadata": {
        "id": "KPfac_XlBuHW"
      }
    },
    {
      "cell_type": "code",
      "source": [
        "data_calory = data.sort_values(by = ['Calories'], ascending=False)\n",
        "sns.barplot(y=\"Item\", x=\"Calories\", data = data_calory.head(10))"
      ],
      "metadata": {
        "colab": {
          "base_uri": "https://localhost:8080/",
          "height": 341
        },
        "id": "Y_IQLijdaHHQ",
        "outputId": "54039c0d-8ef8-4aa9-f8a6-e985420b1cf9"
      },
      "execution_count": 23,
      "outputs": [
        {
          "output_type": "execute_result",
          "data": {
            "text/plain": [
              "<Axes: xlabel='Calories', ylabel='Item'>"
            ]
          },
          "metadata": {},
          "execution_count": 23
        },
        {
          "output_type": "display_data",
          "data": {
            "text/plain": [
              "<Figure size 1400x500 with 1 Axes>"
            ],
            "image/png": "[encoded data removed]"
          },
          "metadata": {}
        }
      ]
    },
    {
      "cell_type": "markdown",
      "source": [
        "From the analysis of the graph above:\n",
        "- The BBQ Rib Signature Wrap has the highest calorie content among the Cripsy Cauliflower Ranch Signature Wrap and Spicy Italian menu items.\n",
        "- Turkey, Bacon & Guacamole, Meatball Marinara, and Southwest Chipotle Chicken Club have lower calorie content compared to what is shown in the graph.\n",
        "\n",
        "Since food preferences are highly subjective, and many other factors like taste and texture also influence a buyer's food choices, it's important to consider that calorie content is just one aspect of food selection. Different individuals may have different reasons for choosing specific menu items beyond calorie count."
      ],
      "metadata": {
        "id": "LqjHmXiRQNRg"
      }
    },
    {
      "cell_type": "markdown",
      "source": [
        "### Analyzing High-Protein Menu Items"
      ],
      "metadata": {
        "id": "72YDjY0GCTjR"
      }
    },
    {
      "cell_type": "code",
      "source": [
        "data_Protein = data.sort_values(by = ['Protein (g)'], ascending=False)\n",
        "sns.barplot(y=\"Item\", x=\"Protein (g)\", data = data_Protein.head(10))"
      ],
      "metadata": {
        "colab": {
          "base_uri": "https://localhost:8080/",
          "height": 351
        },
        "id": "7qvtZd_Na0EN",
        "outputId": "d35739ab-19ad-4288-c841-750af2a773c1"
      },
      "execution_count": 24,
      "outputs": [
        {
          "output_type": "execute_result",
          "data": {
            "text/plain": [
              "<Axes: xlabel='Protein (g)', ylabel='Item'>"
            ]
          },
          "metadata": {},
          "execution_count": 24
        },
        {
          "output_type": "display_data",
          "data": {
            "text/plain": [
              "<Figure size 1400x500 with 1 Axes>"
            ],
            "image/png": "[encoded data removed]"
          },
          "metadata": {}
        }
      ]
    },
    {
      "cell_type": "markdown",
      "source": [
        "From the analysis of the graph above:\n",
        "- The menu items \"Chicken & Bacon Ranch\" and \"Southwest Chipotle Chicken Club\" have the highest protein content among the items shown in the graph.\n",
        "- Turkey & Bacon Avocado Wrap have lower protein content compared to what is shown in the graph.\n",
        "\n",
        "Additionally, protein or calorie content in food menus can be an important consideration for individuals with specific dietary or nutritional needs. Food choices can vary greatly depending on personal preferences and requirements."
      ],
      "metadata": {
        "id": "3uE_GLdYR5b5"
      }
    },
    {
      "cell_type": "markdown",
      "source": [
        "### Analyzing High-Total Fat Menu Items"
      ],
      "metadata": {
        "id": "SxfZBS_yCXXd"
      }
    },
    {
      "cell_type": "code",
      "source": [
        "data_Fat = data.sort_values(by = ['Total Fat (g)'], ascending=False)\n",
        "sns.barplot(y=\"Item\", x=\"Total Fat (g)\", data = data_Fat.head(10))"
      ],
      "metadata": {
        "colab": {
          "base_uri": "https://localhost:8080/",
          "height": 362
        },
        "id": "xZ_eHdidbEj5",
        "outputId": "53926710-1df6-4c64-d0b2-98d7a6a92483"
      },
      "execution_count": 25,
      "outputs": [
        {
          "output_type": "execute_result",
          "data": {
            "text/plain": [
              "<Axes: xlabel='Total Fat (g)', ylabel='Item'>"
            ]
          },
          "metadata": {},
          "execution_count": 25
        },
        {
          "output_type": "display_data",
          "data": {
            "text/plain": [
              "<Figure size 1400x500 with 1 Axes>"
            ],
            "image/png": "[encoded data removed]"
          },
          "metadata": {}
        }
      ]
    },
    {
      "cell_type": "markdown",
      "source": [
        "From the analysis of the graph above:\n",
        "\n",
        "- The menu items \"BBQ Rib Signature Wrap\" and \"Southwest Chipotle Chicken Club\" have the highest total fat content among the items shown in the graph.\n",
        "- Subway Seafood Sensation have lower total fat content compared to what is shown in the graph.\n",
        "\n",
        "It's important to remember that the nutritional content of food menus can vary depending on factors such as portion size and the ingredients used. The actual nutritional content in food menus may differ in practice. Individuals with specific dietary preferences or nutritional needs should consider this information when making their menu choices."
      ],
      "metadata": {
        "id": "FPUOtbN3S4J-"
      }
    },
    {
      "cell_type": "markdown",
      "source": [
        "### Grouping Menu Items by Category"
      ],
      "metadata": {
        "id": "PT0JBqI2bYz4"
      }
    },
    {
      "cell_type": "code",
      "source": [
        "df_means = data.groupby('Category').agg('mean')\n",
        "df_means.style.background_gradient(cmap='Blues')"
      ],
      "metadata": {
        "colab": {
          "base_uri": "https://localhost:8080/",
          "height": 471
        },
        "id": "SL_NhLq_bZWn",
        "outputId": "2406452c-dd7d-4fae-bc5d-5886aab8bb21"
      },
      "execution_count": 26,
      "outputs": [
        {
          "output_type": "stream",
          "name": "stderr",
          "text": [
            "<ipython-input-26-71d0d58015d6>:1: FutureWarning: The default value of numeric_only in DataFrameGroupBy.mean is deprecated. In a future version, numeric_only will default to False. Either specify numeric_only or select only columns which should be valid for the function.\n",
            "  df_means = data.groupby('Category').agg('mean')\n"
          ]
        },
        {
          "output_type": "execute_result",
          "data": {
            "text/plain": [
              "<pandas.io.formats.style.Styler at 0x7cc6a00a3eb0>"
            ],
            "text/html": [
              "<style type=\"text/css\">\n",
              "#T_d28c3_row0_col0 {\n",
              "  background-color: #5ba3d0;\n",
              "  color: #f1f1f1;\n",
              "}\n",
              "#T_d28c3_row0_col1 {\n",
              "  background-color: #1663aa;\n",
              "  color: #f1f1f1;\n",
              "}\n",
              "#T_d28c3_row0_col2, #T_d28c3_row0_col7 {\n",
              "  background-color: #2676b8;\n",
              "  color: #f1f1f1;\n",
              "}\n",
              "#T_d28c3_row0_col3, #T_d28c3_row2_col4, #T_d28c3_row3_col8, #T_d28c3_row5_col2, #T_d28c3_row6_col7, #T_d28c3_row8_col0, #T_d28c3_row8_col1, #T_d28c3_row8_col5, #T_d28c3_row8_col6, #T_d28c3_row8_col9, #T_d28c3_row8_col10 {\n",
              "  background-color: #08306b;\n",
              "  color: #f1f1f1;\n",
              "}\n",
              "#T_d28c3_row0_col4, #T_d28c3_row6_col1 {\n",
              "  background-color: #60a7d2;\n",
              "  color: #f1f1f1;\n",
              "}\n",
              "#T_d28c3_row0_col5 {\n",
              "  background-color: #083471;\n",
              "  color: #f1f1f1;\n",
              "}\n",
              "#T_d28c3_row0_col6, #T_d28c3_row1_col9 {\n",
              "  background-color: #ebf3fb;\n",
              "  color: #000000;\n",
              "}\n",
              "#T_d28c3_row0_col8, #T_d28c3_row5_col3 {\n",
              "  background-color: #a8cee4;\n",
              "  color: #000000;\n",
              "}\n",
              "#T_d28c3_row0_col9 {\n",
              "  background-color: #08488e;\n",
              "  color: #f1f1f1;\n",
              "}\n",
              "#T_d28c3_row0_col10 {\n",
              "  background-color: #61a7d2;\n",
              "  color: #f1f1f1;\n",
              "}\n",
              "#T_d28c3_row1_col0 {\n",
              "  background-color: #f5f9fe;\n",
              "  color: #000000;\n",
              "}\n",
              "#T_d28c3_row1_col1 {\n",
              "  background-color: #e3eef8;\n",
              "  color: #000000;\n",
              "}\n",
              "#T_d28c3_row1_col2, #T_d28c3_row4_col5, #T_d28c3_row4_col10 {\n",
              "  background-color: #e7f1fa;\n",
              "  color: #000000;\n",
              "}\n",
              "#T_d28c3_row1_col3, #T_d28c3_row1_col6, #T_d28c3_row1_col8, #T_d28c3_row1_col10, #T_d28c3_row3_col0, #T_d28c3_row3_col1, #T_d28c3_row3_col2, #T_d28c3_row3_col3, #T_d28c3_row3_col4, #T_d28c3_row3_col5, #T_d28c3_row3_col7, #T_d28c3_row3_col9, #T_d28c3_row4_col3, #T_d28c3_row4_col7 {\n",
              "  background-color: #f7fbff;\n",
              "  color: #000000;\n",
              "}\n",
              "#T_d28c3_row1_col4, #T_d28c3_row3_col10, #T_d28c3_row4_col6 {\n",
              "  background-color: #f4f9fe;\n",
              "  color: #000000;\n",
              "}\n",
              "#T_d28c3_row1_col5 {\n",
              "  background-color: #e7f0fa;\n",
              "  color: #000000;\n",
              "}\n",
              "#T_d28c3_row1_col7 {\n",
              "  background-color: #dce9f6;\n",
              "  color: #000000;\n",
              "}\n",
              "#T_d28c3_row2_col0 {\n",
              "  background-color: #4594c7;\n",
              "  color: #f1f1f1;\n",
              "}\n",
              "#T_d28c3_row2_col1 {\n",
              "  background-color: #4a98c9;\n",
              "  color: #f1f1f1;\n",
              "}\n",
              "#T_d28c3_row2_col2 {\n",
              "  background-color: #69add5;\n",
              "  color: #f1f1f1;\n",
              "}\n",
              "#T_d28c3_row2_col3 {\n",
              "  background-color: #c3daee;\n",
              "  color: #000000;\n",
              "}\n",
              "#T_d28c3_row2_col5, #T_d28c3_row7_col5 {\n",
              "  background-color: #4e9acb;\n",
              "  color: #f1f1f1;\n",
              "}\n",
              "#T_d28c3_row2_col6 {\n",
              "  background-color: #3484bf;\n",
              "  color: #f1f1f1;\n",
              "}\n",
              "#T_d28c3_row2_col7 {\n",
              "  background-color: #1f6eb3;\n",
              "  color: #f1f1f1;\n",
              "}\n",
              "#T_d28c3_row2_col8 {\n",
              "  background-color: #d8e7f5;\n",
              "  color: #000000;\n",
              "}\n",
              "#T_d28c3_row2_col9 {\n",
              "  background-color: #3888c1;\n",
              "  color: #f1f1f1;\n",
              "}\n",
              "#T_d28c3_row2_col10 {\n",
              "  background-color: #4896c8;\n",
              "  color: #f1f1f1;\n",
              "}\n",
              "#T_d28c3_row3_col6 {\n",
              "  background-color: #dbe9f6;\n",
              "  color: #000000;\n",
              "}\n",
              "#T_d28c3_row4_col0 {\n",
              "  background-color: #e9f2fa;\n",
              "  color: #000000;\n",
              "}\n",
              "#T_d28c3_row4_col1, #T_d28c3_row5_col8 {\n",
              "  background-color: #cddff1;\n",
              "  color: #000000;\n",
              "}\n",
              "#T_d28c3_row4_col2 {\n",
              "  background-color: #ccdff1;\n",
              "  color: #000000;\n",
              "}\n",
              "#T_d28c3_row4_col4, #T_d28c3_row6_col6 {\n",
              "  background-color: #e8f1fa;\n",
              "  color: #000000;\n",
              "}\n",
              "#T_d28c3_row4_col8 {\n",
              "  background-color: #81badb;\n",
              "  color: #000000;\n",
              "}\n",
              "#T_d28c3_row4_col9 {\n",
              "  background-color: #eaf2fb;\n",
              "  color: #000000;\n",
              "}\n",
              "#T_d28c3_row5_col0 {\n",
              "  background-color: #08478d;\n",
              "  color: #f1f1f1;\n",
              "}\n",
              "#T_d28c3_row5_col1 {\n",
              "  background-color: #084e98;\n",
              "  color: #f1f1f1;\n",
              "}\n",
              "#T_d28c3_row5_col4 {\n",
              "  background-color: #9ac8e0;\n",
              "  color: #000000;\n",
              "}\n",
              "#T_d28c3_row5_col5 {\n",
              "  background-color: #75b4d8;\n",
              "  color: #000000;\n",
              "}\n",
              "#T_d28c3_row5_col6 {\n",
              "  background-color: #083c7d;\n",
              "  color: #f1f1f1;\n",
              "}\n",
              "#T_d28c3_row5_col7 {\n",
              "  background-color: #549fcd;\n",
              "  color: #f1f1f1;\n",
              "}\n",
              "#T_d28c3_row5_col9, #T_d28c3_row8_col7 {\n",
              "  background-color: #125da6;\n",
              "  color: #f1f1f1;\n",
              "}\n",
              "#T_d28c3_row5_col10 {\n",
              "  background-color: #08458a;\n",
              "  color: #f1f1f1;\n",
              "}\n",
              "#T_d28c3_row6_col0 {\n",
              "  background-color: #a5cde3;\n",
              "  color: #000000;\n",
              "}\n",
              "#T_d28c3_row6_col2 {\n",
              "  background-color: #8abfdd;\n",
              "  color: #000000;\n",
              "}\n",
              "#T_d28c3_row6_col3 {\n",
              "  background-color: #bfd8ed;\n",
              "  color: #000000;\n",
              "}\n",
              "#T_d28c3_row6_col4 {\n",
              "  background-color: #aed1e7;\n",
              "  color: #000000;\n",
              "}\n",
              "#T_d28c3_row6_col5 {\n",
              "  background-color: #4d99ca;\n",
              "  color: #f1f1f1;\n",
              "}\n",
              "#T_d28c3_row6_col8 {\n",
              "  background-color: #99c7e0;\n",
              "  color: #000000;\n",
              "}\n",
              "#T_d28c3_row6_col9 {\n",
              "  background-color: #4997c9;\n",
              "  color: #f1f1f1;\n",
              "}\n",
              "#T_d28c3_row6_col10 {\n",
              "  background-color: #a9cfe5;\n",
              "  color: #000000;\n",
              "}\n",
              "#T_d28c3_row7_col0 {\n",
              "  background-color: #56a0ce;\n",
              "  color: #f1f1f1;\n",
              "}\n",
              "#T_d28c3_row7_col1 {\n",
              "  background-color: #4f9bcb;\n",
              "  color: #f1f1f1;\n",
              "}\n",
              "#T_d28c3_row7_col2 {\n",
              "  background-color: #68acd5;\n",
              "  color: #f1f1f1;\n",
              "}\n",
              "#T_d28c3_row7_col3 {\n",
              "  background-color: #95c5df;\n",
              "  color: #000000;\n",
              "}\n",
              "#T_d28c3_row7_col4 {\n",
              "  background-color: #b9d6ea;\n",
              "  color: #000000;\n",
              "}\n",
              "#T_d28c3_row7_col6 {\n",
              "  background-color: #5aa2cf;\n",
              "  color: #f1f1f1;\n",
              "}\n",
              "#T_d28c3_row7_col7 {\n",
              "  background-color: #4292c6;\n",
              "  color: #f1f1f1;\n",
              "}\n",
              "#T_d28c3_row7_col8 {\n",
              "  background-color: #b4d3e9;\n",
              "  color: #000000;\n",
              "}\n",
              "#T_d28c3_row7_col9 {\n",
              "  background-color: #3e8ec4;\n",
              "  color: #f1f1f1;\n",
              "}\n",
              "#T_d28c3_row7_col10 {\n",
              "  background-color: #58a1cf;\n",
              "  color: #f1f1f1;\n",
              "}\n",
              "#T_d28c3_row8_col2 {\n",
              "  background-color: #08519c;\n",
              "  color: #f1f1f1;\n",
              "}\n",
              "#T_d28c3_row8_col3 {\n",
              "  background-color: #94c4df;\n",
              "  color: #000000;\n",
              "}\n",
              "#T_d28c3_row8_col4 {\n",
              "  background-color: #7fb9da;\n",
              "  color: #000000;\n",
              "}\n",
              "#T_d28c3_row8_col8 {\n",
              "  background-color: #b8d5ea;\n",
              "  color: #000000;\n",
              "}\n",
              "</style>\n",
              "<table id=\"T_d28c3\" class=\"dataframe\">\n",
              "  <thead>\n",
              "    <tr>\n",
              "      <th class=\"blank level0\" >&nbsp;</th>\n",
              "      <th id=\"T_d28c3_level0_col0\" class=\"col_heading level0 col0\" >Calories</th>\n",
              "      <th id=\"T_d28c3_level0_col1\" class=\"col_heading level0 col1\" >Total Fat (g)</th>\n",
              "      <th id=\"T_d28c3_level0_col2\" class=\"col_heading level0 col2\" >Saturated Fat (g)</th>\n",
              "      <th id=\"T_d28c3_level0_col3\" class=\"col_heading level0 col3\" >Trans Fat (g)</th>\n",
              "      <th id=\"T_d28c3_level0_col4\" class=\"col_heading level0 col4\" >Cholesterol (mg)</th>\n",
              "      <th id=\"T_d28c3_level0_col5\" class=\"col_heading level0 col5\" >Sodium (mg)</th>\n",
              "      <th id=\"T_d28c3_level0_col6\" class=\"col_heading level0 col6\" >Carbs (g)</th>\n",
              "      <th id=\"T_d28c3_level0_col7\" class=\"col_heading level0 col7\" >Dietary Fiber (g)</th>\n",
              "      <th id=\"T_d28c3_level0_col8\" class=\"col_heading level0 col8\" >Sugars (g)</th>\n",
              "      <th id=\"T_d28c3_level0_col9\" class=\"col_heading level0 col9\" >Protein (g)</th>\n",
              "      <th id=\"T_d28c3_level0_col10\" class=\"col_heading level0 col10\" >Weight Watchers Pnts</th>\n",
              "    </tr>\n",
              "    <tr>\n",
              "      <th class=\"index_name level0\" >Category</th>\n",
              "      <th class=\"blank col0\" >&nbsp;</th>\n",
              "      <th class=\"blank col1\" >&nbsp;</th>\n",
              "      <th class=\"blank col2\" >&nbsp;</th>\n",
              "      <th class=\"blank col3\" >&nbsp;</th>\n",
              "      <th class=\"blank col4\" >&nbsp;</th>\n",
              "      <th class=\"blank col5\" >&nbsp;</th>\n",
              "      <th class=\"blank col6\" >&nbsp;</th>\n",
              "      <th class=\"blank col7\" >&nbsp;</th>\n",
              "      <th class=\"blank col8\" >&nbsp;</th>\n",
              "      <th class=\"blank col9\" >&nbsp;</th>\n",
              "      <th class=\"blank col10\" >&nbsp;</th>\n",
              "    </tr>\n",
              "  </thead>\n",
              "  <tbody>\n",
              "    <tr>\n",
              "      <th id=\"T_d28c3_level0_row0\" class=\"row_heading level0 row0\" >Bowls</th>\n",
              "      <td id=\"T_d28c3_row0_col0\" class=\"data row0 col0\" >391.600000</td>\n",
              "      <td id=\"T_d28c3_row0_col1\" class=\"data row0 col1\" >23.040000</td>\n",
              "      <td id=\"T_d28c3_row0_col2\" class=\"data row0 col2\" >8.040000</td>\n",
              "      <td id=\"T_d28c3_row0_col3\" class=\"data row0 col3\" >0.480000</td>\n",
              "      <td id=\"T_d28c3_row0_col4\" class=\"data row0 col4\" >99.200000</td>\n",
              "      <td id=\"T_d28c3_row0_col5\" class=\"data row0 col5\" >1894.400000</td>\n",
              "      <td id=\"T_d28c3_row0_col6\" class=\"data row0 col6\" >15.240000</td>\n",
              "      <td id=\"T_d28c3_row0_col7\" class=\"data row0 col7\" >3.840000</td>\n",
              "      <td id=\"T_d28c3_row0_col8\" class=\"data row0 col8\" >7.240000</td>\n",
              "      <td id=\"T_d28c3_row0_col9\" class=\"data row0 col9\" >32.600000</td>\n",
              "      <td id=\"T_d28c3_row0_col10\" class=\"data row0 col10\" >374.280000</td>\n",
              "    </tr>\n",
              "    <tr>\n",
              "      <th id=\"T_d28c3_level0_row1\" class=\"row_heading level0 row1\" >Bread & Toppings</th>\n",
              "      <td id=\"T_d28c3_row1_col0\" class=\"data row1 col0\" >86.428571</td>\n",
              "      <td id=\"T_d28c3_row1_col1\" class=\"data row1 col1\" >3.153061</td>\n",
              "      <td id=\"T_d28c3_row1_col2\" class=\"data row1 col2\" >0.969388</td>\n",
              "      <td id=\"T_d28c3_row1_col3\" class=\"data row1 col3\" >0.000000</td>\n",
              "      <td id=\"T_d28c3_row1_col4\" class=\"data row1 col4\" >4.081633</td>\n",
              "      <td id=\"T_d28c3_row1_col5\" class=\"data row1 col5\" >205.000000</td>\n",
              "      <td id=\"T_d28c3_row1_col6\" class=\"data row1 col6\" >12.061224</td>\n",
              "      <td id=\"T_d28c3_row1_col7\" class=\"data row1 col7\" >0.734694</td>\n",
              "      <td id=\"T_d28c3_row1_col8\" class=\"data row1 col8\" >1.265306</td>\n",
              "      <td id=\"T_d28c3_row1_col9\" class=\"data row1 col9\" >2.979592</td>\n",
              "      <td id=\"T_d28c3_row1_col10\" class=\"data row1 col10\" >85.479592</td>\n",
              "    </tr>\n",
              "    <tr>\n",
              "      <th id=\"T_d28c3_level0_row2\" class=\"row_heading level0 row2\" >Breakfast</th>\n",
              "      <td id=\"T_d28c3_row2_col0\" class=\"data row2 col0\" >430.000000</td>\n",
              "      <td id=\"T_d28c3_row2_col1\" class=\"data row2 col1\" >17.250000</td>\n",
              "      <td id=\"T_d28c3_row2_col2\" class=\"data row2 col2\" >5.625000</td>\n",
              "      <td id=\"T_d28c3_row2_col3\" class=\"data row2 col3\" >0.125000</td>\n",
              "      <td id=\"T_d28c3_row2_col4\" class=\"data row2 col4\" >185.000000</td>\n",
              "      <td id=\"T_d28c3_row2_col5\" class=\"data row2 col5\" >1152.500000</td>\n",
              "      <td id=\"T_d28c3_row2_col6\" class=\"data row2 col6\" >47.000000</td>\n",
              "      <td id=\"T_d28c3_row2_col7\" class=\"data row2 col7\" >4.000000</td>\n",
              "      <td id=\"T_d28c3_row2_col8\" class=\"data row2 col8\" >4.000000</td>\n",
              "      <td id=\"T_d28c3_row2_col9\" class=\"data row2 col9\" >24.000000</td>\n",
              "      <td id=\"T_d28c3_row2_col10\" class=\"data row2 col10\" >415.625000</td>\n",
              "    </tr>\n",
              "    <tr>\n",
              "      <th id=\"T_d28c3_level0_row3\" class=\"row_heading level0 row3\" >Drinks</th>\n",
              "      <td id=\"T_d28c3_row3_col0\" class=\"data row3 col0\" >77.727273</td>\n",
              "      <td id=\"T_d28c3_row3_col1\" class=\"data row3 col1\" >0.181818</td>\n",
              "      <td id=\"T_d28c3_row3_col2\" class=\"data row3 col2\" >0.090909</td>\n",
              "      <td id=\"T_d28c3_row3_col3\" class=\"data row3 col3\" >0.000000</td>\n",
              "      <td id=\"T_d28c3_row3_col4\" class=\"data row3 col4\" >0.909091</td>\n",
              "      <td id=\"T_d28c3_row3_col5\" class=\"data row3 col5\" >50.000000</td>\n",
              "      <td id=\"T_d28c3_row3_col6\" class=\"data row3 col6\" >19.454545</td>\n",
              "      <td id=\"T_d28c3_row3_col7\" class=\"data row3 col7\" >0.000000</td>\n",
              "      <td id=\"T_d28c3_row3_col8\" class=\"data row3 col8\" >18.545455</td>\n",
              "      <td id=\"T_d28c3_row3_col9\" class=\"data row3 col9\" >0.909091</td>\n",
              "      <td id=\"T_d28c3_row3_col10\" class=\"data row3 col10\" >95.454545</td>\n",
              "    </tr>\n",
              "    <tr>\n",
              "      <th id=\"T_d28c3_level0_row4\" class=\"row_heading level0 row4\" >Extras</th>\n",
              "      <td id=\"T_d28c3_row4_col0\" class=\"data row4 col0\" >120.000000</td>\n",
              "      <td id=\"T_d28c3_row4_col1\" class=\"data row4 col1\" >6.333333</td>\n",
              "      <td id=\"T_d28c3_row4_col2\" class=\"data row4 col2\" >2.500000</td>\n",
              "      <td id=\"T_d28c3_row4_col3\" class=\"data row4 col3\" >0.000000</td>\n",
              "      <td id=\"T_d28c3_row4_col4\" class=\"data row4 col4\" >15.000000</td>\n",
              "      <td id=\"T_d28c3_row4_col5\" class=\"data row4 col5\" >201.666667</td>\n",
              "      <td id=\"T_d28c3_row4_col6\" class=\"data row4 col6\" >13.000000</td>\n",
              "      <td id=\"T_d28c3_row4_col7\" class=\"data row4 col7\" >0.000000</td>\n",
              "      <td id=\"T_d28c3_row4_col8\" class=\"data row4 col8\" >9.000000</td>\n",
              "      <td id=\"T_d28c3_row4_col9\" class=\"data row4 col9\" >3.333333</td>\n",
              "      <td id=\"T_d28c3_row4_col10\" class=\"data row4 col10\" >128.166667</td>\n",
              "    </tr>\n",
              "    <tr>\n",
              "      <th id=\"T_d28c3_level0_row5\" class=\"row_heading level0 row5\" >Panini</th>\n",
              "      <td id=\"T_d28c3_row5_col0\" class=\"data row5 col0\" >600.000000</td>\n",
              "      <td id=\"T_d28c3_row5_col1\" class=\"data row5 col1\" >25.333333</td>\n",
              "      <td id=\"T_d28c3_row5_col2\" class=\"data row5 col2\" >11.000000</td>\n",
              "      <td id=\"T_d28c3_row5_col3\" class=\"data row5 col3\" >0.166667</td>\n",
              "      <td id=\"T_d28c3_row5_col4\" class=\"data row5 col4\" >71.666667</td>\n",
              "      <td id=\"T_d28c3_row5_col5\" class=\"data row5 col5\" >943.333333</td>\n",
              "      <td id=\"T_d28c3_row5_col6\" class=\"data row5 col6\" >61.000000</td>\n",
              "      <td id=\"T_d28c3_row5_col7\" class=\"data row5 col7\" >3.000000</td>\n",
              "      <td id=\"T_d28c3_row5_col8\" class=\"data row5 col8\" >5.000000</td>\n",
              "      <td id=\"T_d28c3_row5_col9\" class=\"data row5 col9\" >29.666667</td>\n",
              "      <td id=\"T_d28c3_row5_col10\" class=\"data row5 col10\" >586.333333</td>\n",
              "    </tr>\n",
              "    <tr>\n",
              "      <th id=\"T_d28c3_level0_row6\" class=\"row_heading level0 row6\" >Salads</th>\n",
              "      <td id=\"T_d28c3_row6_col0\" class=\"data row6 col0\" >280.000000</td>\n",
              "      <td id=\"T_d28c3_row6_col1\" class=\"data row6 col1\" >15.326087</td>\n",
              "      <td id=\"T_d28c3_row6_col2\" class=\"data row6 col2\" >4.717391</td>\n",
              "      <td id=\"T_d28c3_row6_col3\" class=\"data row6 col3\" >0.130435</td>\n",
              "      <td id=\"T_d28c3_row6_col4\" class=\"data row6 col4\" >60.869565</td>\n",
              "      <td id=\"T_d28c3_row6_col5\" class=\"data row6 col5\" >1162.391304</td>\n",
              "      <td id=\"T_d28c3_row6_col6\" class=\"data row6 col6\" >16.000000</td>\n",
              "      <td id=\"T_d28c3_row6_col7\" class=\"data row6 col7\" >5.260870</td>\n",
              "      <td id=\"T_d28c3_row6_col8\" class=\"data row6 col8\" >8.000000</td>\n",
              "      <td id=\"T_d28c3_row6_col9\" class=\"data row6 col9\" >21.913043</td>\n",
              "      <td id=\"T_d28c3_row6_col10\" class=\"data row6 col10\" >270.804348</td>\n",
              "    </tr>\n",
              "    <tr>\n",
              "      <th id=\"T_d28c3_level0_row7\" class=\"row_heading level0 row7\" >Sandwiches</th>\n",
              "      <td id=\"T_d28c3_row7_col0\" class=\"data row7 col0\" >400.238095</td>\n",
              "      <td id=\"T_d28c3_row7_col1\" class=\"data row7 col1\" >16.738095</td>\n",
              "      <td id=\"T_d28c3_row7_col2\" class=\"data row7 col2\" >5.630952</td>\n",
              "      <td id=\"T_d28c3_row7_col3\" class=\"data row7 col3\" >0.190476</td>\n",
              "      <td id=\"T_d28c3_row7_col4\" class=\"data row7 col4\" >54.404762</td>\n",
              "      <td id=\"T_d28c3_row7_col5\" class=\"data row7 col5\" >1152.619048</td>\n",
              "      <td id=\"T_d28c3_row7_col6\" class=\"data row7 col6\" >40.571429</td>\n",
              "      <td id=\"T_d28c3_row7_col7\" class=\"data row7 col7\" >3.285714</td>\n",
              "      <td id=\"T_d28c3_row7_col8\" class=\"data row7 col8\" >6.571429</td>\n",
              "      <td id=\"T_d28c3_row7_col9\" class=\"data row7 col9\" >23.190476</td>\n",
              "      <td id=\"T_d28c3_row7_col10\" class=\"data row7 col10\" >389.250000</td>\n",
              "    </tr>\n",
              "    <tr>\n",
              "      <th id=\"T_d28c3_level0_row8\" class=\"row_heading level0 row8\" >Wraps</th>\n",
              "      <td id=\"T_d28c3_row8_col0\" class=\"data row8 col0\" >649.230769</td>\n",
              "      <td id=\"T_d28c3_row8_col1\" class=\"data row8 col1\" >28.615385</td>\n",
              "      <td id=\"T_d28c3_row8_col2\" class=\"data row8 col2\" >9.596154</td>\n",
              "      <td id=\"T_d28c3_row8_col3\" class=\"data row8 col3\" >0.192308</td>\n",
              "      <td id=\"T_d28c3_row8_col4\" class=\"data row8 col4\" >84.230769</td>\n",
              "      <td id=\"T_d28c3_row8_col5\" class=\"data row8 col5\" >1925.769231</td>\n",
              "      <td id=\"T_d28c3_row8_col6\" class=\"data row8 col6\" >63.500000</td>\n",
              "      <td id=\"T_d28c3_row8_col7\" class=\"data row8 col7\" >4.346154</td>\n",
              "      <td id=\"T_d28c3_row8_col8\" class=\"data row8 col8\" >6.384615</td>\n",
              "      <td id=\"T_d28c3_row8_col9\" class=\"data row8 col9\" >35.769231</td>\n",
              "      <td id=\"T_d28c3_row8_col10\" class=\"data row8 col10\" >629.442308</td>\n",
              "    </tr>\n",
              "  </tbody>\n",
              "</table>\n"
            ]
          },
          "metadata": {},
          "execution_count": 26
        }
      ]
    },
    {
      "cell_type": "markdown",
      "source": [
        "So:\n",
        "\n",
        "Wraps menu has most Protein, Calories, Total Fat, Sodium, and Carbs content.\n",
        "\n",
        "Breakfast menu has most Cholesterol content.\n",
        "\n",
        "Beverage Menu has lots of sugar."
      ],
      "metadata": {
        "id": "iHIdD8ZncxnZ"
      }
    },
    {
      "cell_type": "markdown",
      "source": [
        "## Recommendations\n",
        "\n",
        "- Promote Healthy Menu Options: Subway can promote low-calorie, low-fat, and high-protein menu choices as healthy options to customers. This will assist customers who are looking to manage their calorie intake or pay attention to specific nutrition.\n",
        "- Low-Sugar Beverage Options: If the beverage menu contains high sugar content, Subway can explore ways to offer low-sugar beverage options or provide alternatives with lower sugar content.\n",
        "- Nutrition-Based Menu Selection: Subway can provide clearer and easily accessible nutrition information to customers, enabling them to make menu choices that align with their dietary needs.\n",
        "- Ongoing Monitoring and Improvement: Subway can continue to monitor and improve the nutritional composition of their menu to meet customer needs and preferences."
      ],
      "metadata": {
        "id": "pIRWZtO4Vx0V"
      }
    }
  ]
}